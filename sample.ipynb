{
 "cells": [
  {
   "metadata": {},
   "cell_type": "markdown",
   "source": [
    "# Weather Forecasting with LSTM for the next 2 days\n",
    "\n"
   ],
   "id": "8a77807f92f26ee"
  },
  {
   "metadata": {
    "ExecuteTime": {
     "end_time": "2024-09-04T07:05:10.624479Z",
     "start_time": "2024-09-04T07:05:10.558655Z"
    }
   },
   "cell_type": "code",
   "source": "!python --version",
   "id": "fbc121e30a2defb3",
   "outputs": [
    {
     "name": "stdout",
     "output_type": "stream",
     "text": [
      "Python 3.9.18\n"
     ]
    }
   ],
   "execution_count": 1
  },
  {
   "metadata": {},
   "cell_type": "markdown",
   "source": "# Prepare the data",
   "id": "8bb52321b479e88b"
  },
  {
   "metadata": {
    "ExecuteTime": {
     "end_time": "2024-09-04T07:05:11.410505Z",
     "start_time": "2024-09-04T07:05:10.627471Z"
    }
   },
   "cell_type": "code",
   "source": [
    "import pandas as pd\n",
    "# Have a look at the data\n",
    "df = pd.read_csv('data\\Environment variables-data-as-seriestocolumns-2022-03-01 16_36_12.csv')\n",
    "df.shape\n"
   ],
   "id": "3eb7e9fda15879c4",
   "outputs": [
    {
     "data": {
      "text/plain": [
       "(62724, 4)"
      ]
     },
     "execution_count": 2,
     "metadata": {},
     "output_type": "execute_result"
    }
   ],
   "execution_count": 2
  },
  {
   "metadata": {
    "ExecuteTime": {
     "end_time": "2024-09-04T07:05:11.441421Z",
     "start_time": "2024-09-04T07:05:11.413497Z"
    }
   },
   "cell_type": "code",
   "source": "df.head()",
   "id": "4a1d4b4054d365e0",
   "outputs": [
    {
     "data": {
      "text/plain": [
       "                  Time  TF.insideEnvironment.insideHumidity  \\\n",
       "0  2022-02-28 06:00:01                                 29.0   \n",
       "1  2022-02-28 06:00:01                                 29.0   \n",
       "2  2022-02-28 06:00:05                                 29.0   \n",
       "3  2022-02-28 06:00:06                                 29.0   \n",
       "4  2022-02-28 06:00:11                                 29.0   \n",
       "\n",
       "   TF.insideEnvironment.insideLight  TF.insideEnvironment.insideTemperature  \n",
       "0                              0.14                                    25.0  \n",
       "1                               NaN                                     NaN  \n",
       "2                               NaN                                     NaN  \n",
       "3                               NaN                                     NaN  \n",
       "4                               NaN                                     NaN  "
      ],
      "text/html": [
       "<div>\n",
       "<style scoped>\n",
       "    .dataframe tbody tr th:only-of-type {\n",
       "        vertical-align: middle;\n",
       "    }\n",
       "\n",
       "    .dataframe tbody tr th {\n",
       "        vertical-align: top;\n",
       "    }\n",
       "\n",
       "    .dataframe thead th {\n",
       "        text-align: right;\n",
       "    }\n",
       "</style>\n",
       "<table border=\"1\" class=\"dataframe\">\n",
       "  <thead>\n",
       "    <tr style=\"text-align: right;\">\n",
       "      <th></th>\n",
       "      <th>Time</th>\n",
       "      <th>TF.insideEnvironment.insideHumidity</th>\n",
       "      <th>TF.insideEnvironment.insideLight</th>\n",
       "      <th>TF.insideEnvironment.insideTemperature</th>\n",
       "    </tr>\n",
       "  </thead>\n",
       "  <tbody>\n",
       "    <tr>\n",
       "      <th>0</th>\n",
       "      <td>2022-02-28 06:00:01</td>\n",
       "      <td>29.0</td>\n",
       "      <td>0.14</td>\n",
       "      <td>25.0</td>\n",
       "    </tr>\n",
       "    <tr>\n",
       "      <th>1</th>\n",
       "      <td>2022-02-28 06:00:01</td>\n",
       "      <td>29.0</td>\n",
       "      <td>NaN</td>\n",
       "      <td>NaN</td>\n",
       "    </tr>\n",
       "    <tr>\n",
       "      <th>2</th>\n",
       "      <td>2022-02-28 06:00:05</td>\n",
       "      <td>29.0</td>\n",
       "      <td>NaN</td>\n",
       "      <td>NaN</td>\n",
       "    </tr>\n",
       "    <tr>\n",
       "      <th>3</th>\n",
       "      <td>2022-02-28 06:00:06</td>\n",
       "      <td>29.0</td>\n",
       "      <td>NaN</td>\n",
       "      <td>NaN</td>\n",
       "    </tr>\n",
       "    <tr>\n",
       "      <th>4</th>\n",
       "      <td>2022-02-28 06:00:11</td>\n",
       "      <td>29.0</td>\n",
       "      <td>NaN</td>\n",
       "      <td>NaN</td>\n",
       "    </tr>\n",
       "  </tbody>\n",
       "</table>\n",
       "</div>"
      ]
     },
     "execution_count": 3,
     "metadata": {},
     "output_type": "execute_result"
    }
   ],
   "execution_count": 3
  },
  {
   "metadata": {},
   "cell_type": "markdown",
   "source": "In Excel I had a look over the data and saw lots of duplicates and missing values. I will have to clean the data before I can work with it.",
   "id": "f0d0443ecc40e24c"
  },
  {
   "metadata": {
    "ExecuteTime": {
     "end_time": "2024-09-04T07:05:11.486302Z",
     "start_time": "2024-09-04T07:05:11.445412Z"
    }
   },
   "cell_type": "code",
   "source": [
    "df.drop_duplicates(inplace=True)\n",
    "df.shape"
   ],
   "id": "4f50aafebe0cd4a4",
   "outputs": [
    {
     "data": {
      "text/plain": [
       "(43471, 4)"
      ]
     },
     "execution_count": 4,
     "metadata": {},
     "output_type": "execute_result"
    }
   ],
   "execution_count": 4
  },
  {
   "metadata": {
    "ExecuteTime": {
     "end_time": "2024-09-04T07:05:11.517219Z",
     "start_time": "2024-09-04T07:05:11.488296Z"
    }
   },
   "cell_type": "code",
   "source": [
    "# count the duplicates that are left\n",
    "df.duplicated().sum()"
   ],
   "id": "ea8d8dc68276a776",
   "outputs": [
    {
     "data": {
      "text/plain": [
       "0"
      ]
     },
     "execution_count": 5,
     "metadata": {},
     "output_type": "execute_result"
    }
   ],
   "execution_count": 5
  },
  {
   "metadata": {
    "ExecuteTime": {
     "end_time": "2024-09-04T07:05:11.548137Z",
     "start_time": "2024-09-04T07:05:11.520212Z"
    }
   },
   "cell_type": "code",
   "source": "df.info()",
   "id": "78f0a35abd7476e5",
   "outputs": [
    {
     "name": "stdout",
     "output_type": "stream",
     "text": [
      "<class 'pandas.core.frame.DataFrame'>\n",
      "Index: 43471 entries, 0 to 62722\n",
      "Data columns (total 4 columns):\n",
      " #   Column                                  Non-Null Count  Dtype  \n",
      "---  ------                                  --------------  -----  \n",
      " 0   Time                                    43471 non-null  object \n",
      " 1   TF.insideEnvironment.insideHumidity     23816 non-null  float64\n",
      " 2   TF.insideEnvironment.insideLight        10153 non-null  float64\n",
      " 3   TF.insideEnvironment.insideTemperature  9508 non-null   float64\n",
      "dtypes: float64(3), object(1)\n",
      "memory usage: 1.7+ MB\n"
     ]
    }
   ],
   "execution_count": 6
  },
  {
   "metadata": {},
   "cell_type": "markdown",
   "source": [
    "So we have a different amount of data points for each column. We will have to interpolate the data to get a consistent dataset.\n",
    "But first lets rename the columns to make them more readable."
   ],
   "id": "a295c9179ed2948a"
  },
  {
   "metadata": {
    "ExecuteTime": {
     "end_time": "2024-09-04T07:05:11.578056Z",
     "start_time": "2024-09-04T07:05:11.550133Z"
    }
   },
   "cell_type": "code",
   "source": [
    "#rename the columns\n",
    "df.columns = ['Time', 'Humidity', 'Light', 'Temperature']\n",
    "df.head()"
   ],
   "id": "3f639356e32f8560",
   "outputs": [
    {
     "data": {
      "text/plain": [
       "                  Time  Humidity  Light  Temperature\n",
       "0  2022-02-28 06:00:01      29.0   0.14         25.0\n",
       "1  2022-02-28 06:00:01      29.0    NaN          NaN\n",
       "2  2022-02-28 06:00:05      29.0    NaN          NaN\n",
       "3  2022-02-28 06:00:06      29.0    NaN          NaN\n",
       "4  2022-02-28 06:00:11      29.0    NaN          NaN"
      ],
      "text/html": [
       "<div>\n",
       "<style scoped>\n",
       "    .dataframe tbody tr th:only-of-type {\n",
       "        vertical-align: middle;\n",
       "    }\n",
       "\n",
       "    .dataframe tbody tr th {\n",
       "        vertical-align: top;\n",
       "    }\n",
       "\n",
       "    .dataframe thead th {\n",
       "        text-align: right;\n",
       "    }\n",
       "</style>\n",
       "<table border=\"1\" class=\"dataframe\">\n",
       "  <thead>\n",
       "    <tr style=\"text-align: right;\">\n",
       "      <th></th>\n",
       "      <th>Time</th>\n",
       "      <th>Humidity</th>\n",
       "      <th>Light</th>\n",
       "      <th>Temperature</th>\n",
       "    </tr>\n",
       "  </thead>\n",
       "  <tbody>\n",
       "    <tr>\n",
       "      <th>0</th>\n",
       "      <td>2022-02-28 06:00:01</td>\n",
       "      <td>29.0</td>\n",
       "      <td>0.14</td>\n",
       "      <td>25.0</td>\n",
       "    </tr>\n",
       "    <tr>\n",
       "      <th>1</th>\n",
       "      <td>2022-02-28 06:00:01</td>\n",
       "      <td>29.0</td>\n",
       "      <td>NaN</td>\n",
       "      <td>NaN</td>\n",
       "    </tr>\n",
       "    <tr>\n",
       "      <th>2</th>\n",
       "      <td>2022-02-28 06:00:05</td>\n",
       "      <td>29.0</td>\n",
       "      <td>NaN</td>\n",
       "      <td>NaN</td>\n",
       "    </tr>\n",
       "    <tr>\n",
       "      <th>3</th>\n",
       "      <td>2022-02-28 06:00:06</td>\n",
       "      <td>29.0</td>\n",
       "      <td>NaN</td>\n",
       "      <td>NaN</td>\n",
       "    </tr>\n",
       "    <tr>\n",
       "      <th>4</th>\n",
       "      <td>2022-02-28 06:00:11</td>\n",
       "      <td>29.0</td>\n",
       "      <td>NaN</td>\n",
       "      <td>NaN</td>\n",
       "    </tr>\n",
       "  </tbody>\n",
       "</table>\n",
       "</div>"
      ]
     },
     "execution_count": 7,
     "metadata": {},
     "output_type": "execute_result"
    }
   ],
   "execution_count": 7
  },
  {
   "metadata": {},
   "cell_type": "markdown",
   "source": "",
   "id": "a6fdf2e17c14b44"
  },
  {
   "metadata": {},
   "cell_type": "markdown",
   "source": "# Visualize the data, Interpolating",
   "id": "2acd0348f974d5ca"
  },
  {
   "metadata": {
    "ExecuteTime": {
     "end_time": "2024-09-04T07:05:13.225975Z",
     "start_time": "2024-09-04T07:05:11.581049Z"
    }
   },
   "cell_type": "code",
   "source": [
    "# import matplotlib\n",
    "import matplotlib.pyplot as plt\n",
    "plt.figure(figsize=(20,10))\n",
    "plt.plot(df['Humidity'], marker='o', linestyle='', label='Humidity')\n",
    "plt.title('Humidity raw')\n",
    "plt.show()\n",
    "plt.plot(df['Light'], marker='o', linestyle='', label='Light')\n",
    "plt.title('Light raw')\n",
    "plt.show()\n",
    "plt.plot(df['Temperature'], marker='o', linestyle='', label='Temperature')\n",
    "plt.title('Temperature raw')\n",
    "plt.show()"
   ],
   "id": "ebbca37ed43e25ab",
   "outputs": [
    {
     "data": {
      "text/plain": [
       "<Figure size 2000x1000 with 1 Axes>"
      ],
      "image/png": "[encoded data removed]"
     },
     "metadata": {},
     "output_type": "display_data"
    },
    {
     "data": {
      "text/plain": [
       "<Figure size 640x480 with 1 Axes>"
      ],
      "image/png": "[encoded data removed]"
     },
     "metadata": {},
     "output_type": "display_data"
    },
    {
     "data": {
      "text/plain": [
       "<Figure size 640x480 with 1 Axes>"
      ],
      "image/png": "[encoded data removed]"
     },
     "metadata": {},
     "output_type": "display_data"
    }
   ],
   "execution_count": 8
  },
  {
   "metadata": {
    "ExecuteTime": {
     "end_time": "2024-09-04T07:05:13.302770Z",
     "start_time": "2024-09-04T07:05:13.227970Z"
    }
   },
   "cell_type": "code",
   "source": [
    "# to be able to use method 'time' we need to convert the Time column to datetime\n",
    "df['Time'] = pd.to_datetime(df['Time'])\n",
    "# set the Time column as index\n",
    "df.set_index('Time', inplace=True)\n",
    "\n",
    "# interpolate the data\n",
    "df_ip = df.copy()\n",
    "df_ip.interpolate(method='time', inplace=True)\n",
    "df_ip.head()\n"
   ],
   "id": "7476e798396ba1a7",
   "outputs": [
    {
     "data": {
      "text/plain": [
       "                     Humidity     Light  Temperature\n",
       "Time                                                \n",
       "2022-02-28 06:00:01      29.0  0.140000         25.0\n",
       "2022-02-28 06:00:01      29.0  0.140000         25.0\n",
       "2022-02-28 06:00:05      29.0  0.140149         25.0\n",
       "2022-02-28 06:00:06      29.0  0.140186         25.0\n",
       "2022-02-28 06:00:11      29.0  0.140372         25.0"
      ],
      "text/html": [
       "<div>\n",
       "<style scoped>\n",
       "    .dataframe tbody tr th:only-of-type {\n",
       "        vertical-align: middle;\n",
       "    }\n",
       "\n",
       "    .dataframe tbody tr th {\n",
       "        vertical-align: top;\n",
       "    }\n",
       "\n",
       "    .dataframe thead th {\n",
       "        text-align: right;\n",
       "    }\n",
       "</style>\n",
       "<table border=\"1\" class=\"dataframe\">\n",
       "  <thead>\n",
       "    <tr style=\"text-align: right;\">\n",
       "      <th></th>\n",
       "      <th>Humidity</th>\n",
       "      <th>Light</th>\n",
       "      <th>Temperature</th>\n",
       "    </tr>\n",
       "    <tr>\n",
       "      <th>Time</th>\n",
       "      <th></th>\n",
       "      <th></th>\n",
       "      <th></th>\n",
       "    </tr>\n",
       "  </thead>\n",
       "  <tbody>\n",
       "    <tr>\n",
       "      <th>2022-02-28 06:00:01</th>\n",
       "      <td>29.0</td>\n",
       "      <td>0.140000</td>\n",
       "      <td>25.0</td>\n",
       "    </tr>\n",
       "    <tr>\n",
       "      <th>2022-02-28 06:00:01</th>\n",
       "      <td>29.0</td>\n",
       "      <td>0.140000</td>\n",
       "      <td>25.0</td>\n",
       "    </tr>\n",
       "    <tr>\n",
       "      <th>2022-02-28 06:00:05</th>\n",
       "      <td>29.0</td>\n",
       "      <td>0.140149</td>\n",
       "      <td>25.0</td>\n",
       "    </tr>\n",
       "    <tr>\n",
       "      <th>2022-02-28 06:00:06</th>\n",
       "      <td>29.0</td>\n",
       "      <td>0.140186</td>\n",
       "      <td>25.0</td>\n",
       "    </tr>\n",
       "    <tr>\n",
       "      <th>2022-02-28 06:00:11</th>\n",
       "      <td>29.0</td>\n",
       "      <td>0.140372</td>\n",
       "      <td>25.0</td>\n",
       "    </tr>\n",
       "  </tbody>\n",
       "</table>\n",
       "</div>"
      ]
     },
     "execution_count": 9,
     "metadata": {},
     "output_type": "execute_result"
    }
   ],
   "execution_count": 9
  },
  {
   "metadata": {
    "ExecuteTime": {
     "end_time": "2024-09-04T07:05:13.352637Z",
     "start_time": "2024-09-04T07:05:13.304765Z"
    }
   },
   "cell_type": "code",
   "source": [
    "# resample the data to have a consistent time interval\n",
    "df_ip = df_ip.resample('5min').mean()\n",
    "df_ip.loc['2022-02-28']"
   ],
   "id": "64919cee72bf6a02",
   "outputs": [
    {
     "data": {
      "text/plain": [
       "                     Humidity     Light  Temperature\n",
       "Time                                                \n",
       "2022-02-28 06:00:00      29.0  0.145460         25.0\n",
       "2022-02-28 06:05:00      29.0  0.156587         25.0\n",
       "2022-02-28 06:10:00      29.0  0.168338         25.0\n",
       "2022-02-28 06:15:00      29.0  0.179095         25.0\n",
       "2022-02-28 06:20:00      29.0  0.189160         25.0\n",
       "...                       ...       ...          ...\n",
       "2022-02-28 23:35:00       NaN       NaN          NaN\n",
       "2022-02-28 23:40:00       NaN       NaN          NaN\n",
       "2022-02-28 23:45:00       NaN       NaN          NaN\n",
       "2022-02-28 23:50:00       NaN       NaN          NaN\n",
       "2022-02-28 23:55:00       NaN       NaN          NaN\n",
       "\n",
       "[216 rows x 3 columns]"
      ],
      "text/html": [
       "<div>\n",
       "<style scoped>\n",
       "    .dataframe tbody tr th:only-of-type {\n",
       "        vertical-align: middle;\n",
       "    }\n",
       "\n",
       "    .dataframe tbody tr th {\n",
       "        vertical-align: top;\n",
       "    }\n",
       "\n",
       "    .dataframe thead th {\n",
       "        text-align: right;\n",
       "    }\n",
       "</style>\n",
       "<table border=\"1\" class=\"dataframe\">\n",
       "  <thead>\n",
       "    <tr style=\"text-align: right;\">\n",
       "      <th></th>\n",
       "      <th>Humidity</th>\n",
       "      <th>Light</th>\n",
       "      <th>Temperature</th>\n",
       "    </tr>\n",
       "    <tr>\n",
       "      <th>Time</th>\n",
       "      <th></th>\n",
       "      <th></th>\n",
       "      <th></th>\n",
       "    </tr>\n",
       "  </thead>\n",
       "  <tbody>\n",
       "    <tr>\n",
       "      <th>2022-02-28 06:00:00</th>\n",
       "      <td>29.0</td>\n",
       "      <td>0.145460</td>\n",
       "      <td>25.0</td>\n",
       "    </tr>\n",
       "    <tr>\n",
       "      <th>2022-02-28 06:05:00</th>\n",
       "      <td>29.0</td>\n",
       "      <td>0.156587</td>\n",
       "      <td>25.0</td>\n",
       "    </tr>\n",
       "    <tr>\n",
       "      <th>2022-02-28 06:10:00</th>\n",
       "      <td>29.0</td>\n",
       "      <td>0.168338</td>\n",
       "      <td>25.0</td>\n",
       "    </tr>\n",
       "    <tr>\n",
       "      <th>2022-02-28 06:15:00</th>\n",
       "      <td>29.0</td>\n",
       "      <td>0.179095</td>\n",
       "      <td>25.0</td>\n",
       "    </tr>\n",
       "    <tr>\n",
       "      <th>2022-02-28 06:20:00</th>\n",
       "      <td>29.0</td>\n",
       "      <td>0.189160</td>\n",
       "      <td>25.0</td>\n",
       "    </tr>\n",
       "    <tr>\n",
       "      <th>...</th>\n",
       "      <td>...</td>\n",
       "      <td>...</td>\n",
       "      <td>...</td>\n",
       "    </tr>\n",
       "    <tr>\n",
       "      <th>2022-02-28 23:35:00</th>\n",
       "      <td>NaN</td>\n",
       "      <td>NaN</td>\n",
       "      <td>NaN</td>\n",
       "    </tr>\n",
       "    <tr>\n",
       "      <th>2022-02-28 23:40:00</th>\n",
       "      <td>NaN</td>\n",
       "      <td>NaN</td>\n",
       "      <td>NaN</td>\n",
       "    </tr>\n",
       "    <tr>\n",
       "      <th>2022-02-28 23:45:00</th>\n",
       "      <td>NaN</td>\n",
       "      <td>NaN</td>\n",
       "      <td>NaN</td>\n",
       "    </tr>\n",
       "    <tr>\n",
       "      <th>2022-02-28 23:50:00</th>\n",
       "      <td>NaN</td>\n",
       "      <td>NaN</td>\n",
       "      <td>NaN</td>\n",
       "    </tr>\n",
       "    <tr>\n",
       "      <th>2022-02-28 23:55:00</th>\n",
       "      <td>NaN</td>\n",
       "      <td>NaN</td>\n",
       "      <td>NaN</td>\n",
       "    </tr>\n",
       "  </tbody>\n",
       "</table>\n",
       "<p>216 rows × 3 columns</p>\n",
       "</div>"
      ]
     },
     "execution_count": 10,
     "metadata": {},
     "output_type": "execute_result"
    }
   ],
   "execution_count": 10
  },
  {
   "metadata": {
    "ExecuteTime": {
     "end_time": "2024-09-04T07:05:13.381560Z",
     "start_time": "2024-09-04T07:05:13.356626Z"
    }
   },
   "cell_type": "code",
   "source": "df_ip.info()",
   "id": "d45185239eca8be6",
   "outputs": [
    {
     "name": "stdout",
     "output_type": "stream",
     "text": [
      "<class 'pandas.core.frame.DataFrame'>\n",
      "DatetimeIndex: 415 entries, 2022-02-28 06:00:00 to 2022-03-01 16:30:00\n",
      "Freq: 5min\n",
      "Data columns (total 3 columns):\n",
      " #   Column       Non-Null Count  Dtype  \n",
      "---  ------       --------------  -----  \n",
      " 0   Humidity     320 non-null    float64\n",
      " 1   Light        320 non-null    float64\n",
      " 2   Temperature  320 non-null    float64\n",
      "dtypes: float64(3)\n",
      "memory usage: 13.0 KB\n"
     ]
    }
   ],
   "execution_count": 11
  },
  {
   "metadata": {
    "ExecuteTime": {
     "end_time": "2024-09-04T07:05:14.475633Z",
     "start_time": "2024-09-04T07:05:13.388542Z"
    }
   },
   "cell_type": "code",
   "source": [
    "plt.figure(figsize=(20,10))\n",
    "plt.plot(df_ip['Humidity'], marker='o', linestyle='', label='Humidity')\n",
    "plt.title('Humidity interpolated')\n",
    "plt.show()\n",
    "plt.plot(df_ip['Light'], marker='o', linestyle='', label='Humidity')\n",
    "plt.title('Light interpolated')\n",
    "plt.show()\n",
    "plt.plot(df_ip['Temperature'], marker='o', linestyle='', label='Temperature')\n",
    "plt.title('Temperature interpolated')\n",
    "plt.show()"
   ],
   "id": "d5d3bc056c336951",
   "outputs": [
    {
     "data": {
      "text/plain": [
       "<Figure size 2000x1000 with 1 Axes>"
      ],
      "image/png": "[encoded data removed]"
     },
     "metadata": {},
     "output_type": "display_data"
    },
    {
     "data": {
      "text/plain": [
       "<Figure size 640x480 with 1 Axes>"
      ],
      "image/png": "[encoded data removed]"
     },
     "metadata": {},
     "output_type": "display_data"
    },
    {
     "data": {
      "text/plain": [
       "<Figure size 640x480 with 1 Axes>"
      ],
      "image/png": "[encoded data removed]"
     },
     "metadata": {},
     "output_type": "display_data"
    }
   ],
   "execution_count": 12
  },
  {
   "metadata": {},
   "cell_type": "markdown",
   "source": "The interpolated data looks much better. Still weird, that we have this gap in the data. But at least it's a consistent gap.",
   "id": "2615efdfb1bbe97"
  },
  {
   "metadata": {
    "ExecuteTime": {
     "end_time": "2024-09-04T07:05:14.506553Z",
     "start_time": "2024-09-04T07:05:14.477628Z"
    }
   },
   "cell_type": "code",
   "source": "df_ip.describe()",
   "id": "9ea672918d3778db",
   "outputs": [
    {
     "data": {
      "text/plain": [
       "         Humidity       Light  Temperature\n",
       "count  320.000000  320.000000   320.000000\n",
       "mean    25.986044   35.631456    27.315265\n",
       "std      2.146955  116.130868     1.830944\n",
       "min     21.913907    0.082268    25.000000\n",
       "25%     24.000000    0.254867    25.000000\n",
       "50%     25.688422    0.990193    27.000000\n",
       "75%     28.000000    1.313316    29.000000\n",
       "max     29.000000  526.298925    30.000000"
      ],
      "text/html": [
       "<div>\n",
       "<style scoped>\n",
       "    .dataframe tbody tr th:only-of-type {\n",
       "        vertical-align: middle;\n",
       "    }\n",
       "\n",
       "    .dataframe tbody tr th {\n",
       "        vertical-align: top;\n",
       "    }\n",
       "\n",
       "    .dataframe thead th {\n",
       "        text-align: right;\n",
       "    }\n",
       "</style>\n",
       "<table border=\"1\" class=\"dataframe\">\n",
       "  <thead>\n",
       "    <tr style=\"text-align: right;\">\n",
       "      <th></th>\n",
       "      <th>Humidity</th>\n",
       "      <th>Light</th>\n",
       "      <th>Temperature</th>\n",
       "    </tr>\n",
       "  </thead>\n",
       "  <tbody>\n",
       "    <tr>\n",
       "      <th>count</th>\n",
       "      <td>320.000000</td>\n",
       "      <td>320.000000</td>\n",
       "      <td>320.000000</td>\n",
       "    </tr>\n",
       "    <tr>\n",
       "      <th>mean</th>\n",
       "      <td>25.986044</td>\n",
       "      <td>35.631456</td>\n",
       "      <td>27.315265</td>\n",
       "    </tr>\n",
       "    <tr>\n",
       "      <th>std</th>\n",
       "      <td>2.146955</td>\n",
       "      <td>116.130868</td>\n",
       "      <td>1.830944</td>\n",
       "    </tr>\n",
       "    <tr>\n",
       "      <th>min</th>\n",
       "      <td>21.913907</td>\n",
       "      <td>0.082268</td>\n",
       "      <td>25.000000</td>\n",
       "    </tr>\n",
       "    <tr>\n",
       "      <th>25%</th>\n",
       "      <td>24.000000</td>\n",
       "      <td>0.254867</td>\n",
       "      <td>25.000000</td>\n",
       "    </tr>\n",
       "    <tr>\n",
       "      <th>50%</th>\n",
       "      <td>25.688422</td>\n",
       "      <td>0.990193</td>\n",
       "      <td>27.000000</td>\n",
       "    </tr>\n",
       "    <tr>\n",
       "      <th>75%</th>\n",
       "      <td>28.000000</td>\n",
       "      <td>1.313316</td>\n",
       "      <td>29.000000</td>\n",
       "    </tr>\n",
       "    <tr>\n",
       "      <th>max</th>\n",
       "      <td>29.000000</td>\n",
       "      <td>526.298925</td>\n",
       "      <td>30.000000</td>\n",
       "    </tr>\n",
       "  </tbody>\n",
       "</table>\n",
       "</div>"
      ]
     },
     "execution_count": 13,
     "metadata": {},
     "output_type": "execute_result"
    }
   ],
   "execution_count": 13
  },
  {
   "metadata": {},
   "cell_type": "markdown",
   "source": "Filling the gap: The gap looks like it is from 2022-02-28 00:00:00 to 2022-02-28 23:30:00. Before and after this gap the data is consistent and it's at night when the shopfloor might be closed. So we will interpolate them to create a smooth transition.",
   "id": "9776ad4ed1d823e4"
  },
  {
   "metadata": {
    "ExecuteTime": {
     "end_time": "2024-09-04T09:46:59.214368Z",
     "start_time": "2024-09-04T09:46:58.864305Z"
    }
   },
   "cell_type": "code",
   "source": [
    "# using method 'linear' because the timestamps are evenly spaced\n",
    "df_ip.interpolate(method='linear', inplace=True)\n",
    "plt.plot(df_ip['Temperature'], marker='o', linestyle='', label='Temperature')\n",
    "plt.title('Temperature interpolated')\n",
    "plt.show()\n",
    "plt.plot(df_ip['Humidity'], marker='o', linestyle='', label='Humidity')\n",
    "plt.title('Humidity interpolated')\n",
    "plt.show()"
   ],
   "id": "84b808a323b2b453",
   "outputs": [
    {
     "data": {
      "text/plain": [
       "<Figure size 640x480 with 1 Axes>"
      ],
      "image/png": "[encoded data removed]"
     },
     "metadata": {},
     "output_type": "display_data"
    },
    {
     "data": {
      "text/plain": [
       "<Figure size 640x480 with 1 Axes>"
      ],
      "image/png": "[encoded data removed]"
     },
     "metadata": {},
     "output_type": "display_data"
    }
   ],
   "execution_count": 81
  },
  {
   "metadata": {},
   "cell_type": "markdown",
   "source": "# Preparing the data for the model",
   "id": "4fa9fb20295b8496"
  },
  {
   "metadata": {},
   "cell_type": "markdown",
   "source": "Usualle for lagged features we would use a seasonal unit where the smallest is a day. Because we only have two days of data we then would not have enough data points for the model. So I decided that we use an hour as a unit.",
   "id": "f3e62901cbcae60d"
  },
  {
   "metadata": {
    "ExecuteTime": {
     "end_time": "2024-09-04T09:50:48.504549Z",
     "start_time": "2024-09-04T09:50:48.491579Z"
    }
   },
   "cell_type": "code",
   "source": [
    "# scale the data\n",
    "from sklearn.preprocessing import MinMaxScaler\n",
    "# get rid of the light data\n",
    "df_ip.drop(columns='Light', inplace=True)\n",
    "scaler = MinMaxScaler()\n",
    "df_ip_scaled = pd.DataFrame(scaler.fit_transform(df_ip), columns=df_ip.columns, index=df_ip.index)\n",
    "#df_ip_scaled = scaler.fit_transform(df_ip)\n",
    "# data unscaled\n",
    "print(df_ip.head)\n",
    "# data scaled\n",
    "print(df_ip_scaled.head)"
   ],
   "id": "512ba72a446a1fe2",
   "outputs": [
    {
     "name": "stdout",
     "output_type": "stream",
     "text": [
      "<bound method NDFrame.head of                       Humidity  Temperature\n",
      "Time                                       \n",
      "2022-02-28 06:00:00  29.000000         25.0\n",
      "2022-02-28 06:05:00  29.000000         25.0\n",
      "2022-02-28 06:10:00  29.000000         25.0\n",
      "2022-02-28 06:15:00  29.000000         25.0\n",
      "2022-02-28 06:20:00  29.000000         25.0\n",
      "...                        ...          ...\n",
      "2022-03-01 16:10:00  25.055172         27.0\n",
      "2022-03-01 16:15:00  25.319476         27.0\n",
      "2022-03-01 16:20:00  25.637500         27.0\n",
      "2022-03-01 16:25:00  25.892929         27.0\n",
      "2022-03-01 16:30:00  26.000000         27.0\n",
      "\n",
      "[415 rows x 2 columns]>\n",
      "<bound method NDFrame.head of                      Humidity  Temperature\n",
      "Time                                      \n",
      "2022-02-28 06:00:00  1.000000          0.0\n",
      "2022-02-28 06:05:00  1.000000          0.0\n",
      "2022-02-28 06:10:00  1.000000          0.0\n",
      "2022-02-28 06:15:00  1.000000          0.0\n",
      "2022-02-28 06:20:00  1.000000          0.0\n",
      "...                       ...          ...\n",
      "2022-03-01 16:10:00  0.443300          0.4\n",
      "2022-03-01 16:15:00  0.480599          0.4\n",
      "2022-03-01 16:20:00  0.525479          0.4\n",
      "2022-03-01 16:25:00  0.561526          0.4\n",
      "2022-03-01 16:30:00  0.576636          0.4\n",
      "\n",
      "[415 rows x 2 columns]>\n"
     ]
    }
   ],
   "execution_count": 82
  },
  {
   "metadata": {
    "ExecuteTime": {
     "end_time": "2024-09-04T09:51:22.517183Z",
     "start_time": "2024-09-04T09:51:22.333500Z"
    }
   },
   "cell_type": "code",
   "source": [
    "import numpy as np\n",
    "\n",
    "def create_sequences(data, n_timesteps):\n",
    "    X = []\n",
    "    y = []\n",
    "    for i in range(len(data) - n_timesteps):\n",
    "        # Input sequence (last n_timesteps of humidity, light, temperature)\n",
    "        X.append(data[i:i + n_timesteps])\n",
    "        # Target (humidity and temperature for the next timestep)\n",
    "        y.append(data.iloc[i+n_timesteps][['Humidity', 'Temperature']])  # 0 for humidity, 2 for temperature\n",
    "    return np.array(X), np.array(y)\n",
    "\n",
    "n_timesteps = 12  # Use past 12 time steps (1 Hour) to predict the next step\n",
    "X_scaled, y_scaled = create_sequences(df_ip_scaled, n_timesteps)\n",
    "\n",
    "print(X_scaled.shape)\n",
    "print(X_scaled[0])\n",
    "print(y_scaled.shape)\n",
    "print(y_scaled[0])"
   ],
   "id": "6850b6fc05c97b44",
   "outputs": [
    {
     "name": "stdout",
     "output_type": "stream",
     "text": [
      "(403, 12, 2)\n",
      "[[1. 0.]\n",
      " [1. 0.]\n",
      " [1. 0.]\n",
      " [1. 0.]\n",
      " [1. 0.]\n",
      " [1. 0.]\n",
      " [1. 0.]\n",
      " [1. 0.]\n",
      " [1. 0.]\n",
      " [1. 0.]\n",
      " [1. 0.]\n",
      " [1. 0.]]\n",
      "(403, 2)\n",
      "[1. 0.]\n"
     ]
    }
   ],
   "execution_count": 83
  },
  {
   "metadata": {},
   "cell_type": "markdown",
   "source": "",
   "id": "3a2ad1f778d81a17"
  },
  {
   "metadata": {
    "ExecuteTime": {
     "end_time": "2024-09-04T09:51:33.868165Z",
     "start_time": "2024-09-04T09:51:33.860199Z"
    }
   },
   "cell_type": "code",
   "source": [
    "# create the test and train set\n",
    "TEST_SPLIT = 0.1\n",
    "\n",
    "#data = data.drop(columns = ['Wind', 'Solar'])\n",
    "train_size = int(len(X_scaled) * (1-TEST_SPLIT))\n",
    "test_size = len(X_scaled) - train_size\n",
    "\n",
    "X_scaled_train = X_scaled[0:train_size]\n",
    "X_scaled_test = X_scaled[train_size:len(y_scaled)]\n",
    "y_scaled_train = y_scaled[0:train_size]\n",
    "y_scaled_test = y_scaled[train_size:len(y_scaled)]\n"
   ],
   "id": "40a952ca8df2bc3d",
   "outputs": [],
   "execution_count": 84
  },
  {
   "metadata": {},
   "cell_type": "markdown",
   "source": "# Create the Model and train it",
   "id": "e97cad5f11d8ad2d"
  },
  {
   "metadata": {
    "ExecuteTime": {
     "end_time": "2024-09-04T09:51:44.565779Z",
     "start_time": "2024-09-04T09:51:44.118974Z"
    }
   },
   "cell_type": "code",
   "source": [
    "import tensorflow as tf\n",
    "import keras as keras\n",
    "from keras.models import Sequential\n",
    "from keras.layers import *\n",
    "from keras.callbacks import ModelCheckpoint\n",
    "from keras.losses import MeanSquaredError\n",
    "from keras.metrics import RootMeanSquaredError\n",
    "from keras.optimizers import Adam\n",
    "\n",
    "model = Sequential()\n",
    "model.add(InputLayer((n_timesteps, 2))) # 3 features\n",
    "model.add(LSTM(64))\n",
    "model.add(Dense(8, 'relu'))\n",
    "model.add(Dense(2, 'linear'))\n",
    "\n",
    "model.summary()"
   ],
   "id": "9c8a2e0dbba03f5c",
   "outputs": [
    {
     "name": "stdout",
     "output_type": "stream",
     "text": [
      "Model: \"sequential_2\"\n",
      "_________________________________________________________________\n",
      " Layer (type)                Output Shape              Param #   \n",
      "=================================================================\n",
      " lstm_2 (LSTM)               (None, 64)                17152     \n",
      "                                                                 \n",
      " dense_4 (Dense)             (None, 8)                 520       \n",
      "                                                                 \n",
      " dense_5 (Dense)             (None, 2)                 18        \n",
      "                                                                 \n",
      "=================================================================\n",
      "Total params: 17,690\n",
      "Trainable params: 17,690\n",
      "Non-trainable params: 0\n",
      "_________________________________________________________________\n"
     ]
    }
   ],
   "execution_count": 85
  },
  {
   "metadata": {
    "ExecuteTime": {
     "end_time": "2024-09-04T09:51:47.594644Z",
     "start_time": "2024-09-04T09:51:47.578609Z"
    }
   },
   "cell_type": "code",
   "source": [
    "cp = ModelCheckpoint('models/model.h5', save_best_only=True)\n",
    "model.compile(loss=MeanSquaredError(), optimizer=Adam(learning_rate=0.001), metrics=[RootMeanSquaredError()])"
   ],
   "id": "c787b4a0731dbb3b",
   "outputs": [],
   "execution_count": 86
  },
  {
   "metadata": {
    "ExecuteTime": {
     "end_time": "2024-09-04T09:53:14.045791Z",
     "start_time": "2024-09-04T09:53:07.829797Z"
    }
   },
   "cell_type": "code",
   "source": "model.fit(X_scaled_train, y_scaled_train, epochs=50, batch_size=32, validation_split=0.1, callbacks=[cp])",
   "id": "ee749c9bac8d544c",
   "outputs": [
    {
     "name": "stdout",
     "output_type": "stream",
     "text": [
      "Epoch 1/50\n",
      "11/11 [==============================] - 2s 57ms/step - loss: 0.0057 - root_mean_squared_error: 0.0757 - val_loss: 0.0139 - val_root_mean_squared_error: 0.1181\n",
      "Epoch 2/50\n",
      "11/11 [==============================] - 0s 6ms/step - loss: 0.0041 - root_mean_squared_error: 0.0640 - val_loss: 0.0148 - val_root_mean_squared_error: 0.1215\n",
      "Epoch 3/50\n",
      "11/11 [==============================] - 0s 6ms/step - loss: 0.0036 - root_mean_squared_error: 0.0597 - val_loss: 0.0180 - val_root_mean_squared_error: 0.1343\n",
      "Epoch 4/50\n",
      "11/11 [==============================] - 0s 6ms/step - loss: 0.0034 - root_mean_squared_error: 0.0580 - val_loss: 0.0130 - val_root_mean_squared_error: 0.1141\n",
      "Epoch 5/50\n",
      "11/11 [==============================] - 0s 6ms/step - loss: 0.0034 - root_mean_squared_error: 0.0580 - val_loss: 0.0140 - val_root_mean_squared_error: 0.1183\n",
      "Epoch 6/50\n",
      "11/11 [==============================] - 0s 6ms/step - loss: 0.0032 - root_mean_squared_error: 0.0568 - val_loss: 0.0147 - val_root_mean_squared_error: 0.1213\n",
      "Epoch 7/50\n",
      "11/11 [==============================] - 0s 6ms/step - loss: 0.0032 - root_mean_squared_error: 0.0563 - val_loss: 0.0146 - val_root_mean_squared_error: 0.1207\n",
      "Epoch 8/50\n",
      "11/11 [==============================] - 0s 6ms/step - loss: 0.0031 - root_mean_squared_error: 0.0558 - val_loss: 0.0142 - val_root_mean_squared_error: 0.1193\n",
      "Epoch 9/50\n",
      "11/11 [==============================] - 0s 7ms/step - loss: 0.0030 - root_mean_squared_error: 0.0551 - val_loss: 0.0121 - val_root_mean_squared_error: 0.1101\n",
      "Epoch 10/50\n",
      "11/11 [==============================] - 0s 6ms/step - loss: 0.0030 - root_mean_squared_error: 0.0543 - val_loss: 0.0139 - val_root_mean_squared_error: 0.1178\n",
      "Epoch 11/50\n",
      "11/11 [==============================] - 0s 6ms/step - loss: 0.0030 - root_mean_squared_error: 0.0544 - val_loss: 0.0142 - val_root_mean_squared_error: 0.1193\n",
      "Epoch 12/50\n",
      "11/11 [==============================] - 0s 7ms/step - loss: 0.0029 - root_mean_squared_error: 0.0539 - val_loss: 0.0109 - val_root_mean_squared_error: 0.1043\n",
      "Epoch 13/50\n",
      "11/11 [==============================] - 0s 6ms/step - loss: 0.0029 - root_mean_squared_error: 0.0542 - val_loss: 0.0118 - val_root_mean_squared_error: 0.1087\n",
      "Epoch 14/50\n",
      "11/11 [==============================] - 0s 7ms/step - loss: 0.0028 - root_mean_squared_error: 0.0533 - val_loss: 0.0107 - val_root_mean_squared_error: 0.1035\n",
      "Epoch 15/50\n",
      "11/11 [==============================] - 0s 7ms/step - loss: 0.0029 - root_mean_squared_error: 0.0539 - val_loss: 0.0131 - val_root_mean_squared_error: 0.1145\n",
      "Epoch 16/50\n",
      "11/11 [==============================] - 0s 7ms/step - loss: 0.0027 - root_mean_squared_error: 0.0516 - val_loss: 0.0120 - val_root_mean_squared_error: 0.1097\n",
      "Epoch 17/50\n",
      "11/11 [==============================] - 0s 7ms/step - loss: 0.0027 - root_mean_squared_error: 0.0516 - val_loss: 0.0114 - val_root_mean_squared_error: 0.1069\n",
      "Epoch 18/50\n",
      "11/11 [==============================] - 0s 7ms/step - loss: 0.0026 - root_mean_squared_error: 0.0509 - val_loss: 0.0125 - val_root_mean_squared_error: 0.1119\n",
      "Epoch 19/50\n",
      "11/11 [==============================] - 0s 6ms/step - loss: 0.0027 - root_mean_squared_error: 0.0521 - val_loss: 0.0115 - val_root_mean_squared_error: 0.1074\n",
      "Epoch 20/50\n",
      "11/11 [==============================] - 0s 6ms/step - loss: 0.0026 - root_mean_squared_error: 0.0506 - val_loss: 0.0133 - val_root_mean_squared_error: 0.1155\n",
      "Epoch 21/50\n",
      "11/11 [==============================] - 0s 6ms/step - loss: 0.0027 - root_mean_squared_error: 0.0524 - val_loss: 0.0125 - val_root_mean_squared_error: 0.1118\n",
      "Epoch 22/50\n",
      "11/11 [==============================] - 0s 14ms/step - loss: 0.0026 - root_mean_squared_error: 0.0509 - val_loss: 0.0093 - val_root_mean_squared_error: 0.0965\n",
      "Epoch 23/50\n",
      "11/11 [==============================] - 0s 12ms/step - loss: 0.0025 - root_mean_squared_error: 0.0495 - val_loss: 0.0084 - val_root_mean_squared_error: 0.0916\n",
      "Epoch 24/50\n",
      "11/11 [==============================] - 0s 6ms/step - loss: 0.0024 - root_mean_squared_error: 0.0490 - val_loss: 0.0097 - val_root_mean_squared_error: 0.0984\n",
      "Epoch 25/50\n",
      "11/11 [==============================] - 0s 6ms/step - loss: 0.0022 - root_mean_squared_error: 0.0472 - val_loss: 0.0093 - val_root_mean_squared_error: 0.0966\n",
      "Epoch 26/50\n",
      "11/11 [==============================] - 0s 6ms/step - loss: 0.0021 - root_mean_squared_error: 0.0460 - val_loss: 0.0105 - val_root_mean_squared_error: 0.1025\n",
      "Epoch 27/50\n",
      "11/11 [==============================] - 0s 6ms/step - loss: 0.0022 - root_mean_squared_error: 0.0467 - val_loss: 0.0090 - val_root_mean_squared_error: 0.0947\n",
      "Epoch 28/50\n",
      "11/11 [==============================] - 0s 7ms/step - loss: 0.0020 - root_mean_squared_error: 0.0452 - val_loss: 0.0089 - val_root_mean_squared_error: 0.0945\n",
      "Epoch 29/50\n",
      "11/11 [==============================] - 0s 6ms/step - loss: 0.0021 - root_mean_squared_error: 0.0462 - val_loss: 0.0093 - val_root_mean_squared_error: 0.0964\n",
      "Epoch 30/50\n",
      "11/11 [==============================] - 0s 13ms/step - loss: 0.0020 - root_mean_squared_error: 0.0443 - val_loss: 0.0075 - val_root_mean_squared_error: 0.0867\n",
      "Epoch 31/50\n",
      "11/11 [==============================] - 0s 6ms/step - loss: 0.0019 - root_mean_squared_error: 0.0434 - val_loss: 0.0083 - val_root_mean_squared_error: 0.0912\n",
      "Epoch 32/50\n",
      "11/11 [==============================] - 0s 11ms/step - loss: 0.0018 - root_mean_squared_error: 0.0425 - val_loss: 0.0074 - val_root_mean_squared_error: 0.0858\n",
      "Epoch 33/50\n",
      "11/11 [==============================] - 0s 6ms/step - loss: 0.0017 - root_mean_squared_error: 0.0418 - val_loss: 0.0074 - val_root_mean_squared_error: 0.0859\n",
      "Epoch 34/50\n",
      "11/11 [==============================] - 0s 7ms/step - loss: 0.0018 - root_mean_squared_error: 0.0422 - val_loss: 0.0082 - val_root_mean_squared_error: 0.0906\n",
      "Epoch 35/50\n",
      "11/11 [==============================] - 0s 6ms/step - loss: 0.0018 - root_mean_squared_error: 0.0419 - val_loss: 0.0075 - val_root_mean_squared_error: 0.0869\n",
      "Epoch 36/50\n",
      "11/11 [==============================] - 0s 11ms/step - loss: 0.0017 - root_mean_squared_error: 0.0412 - val_loss: 0.0064 - val_root_mean_squared_error: 0.0799\n",
      "Epoch 37/50\n",
      "11/11 [==============================] - 0s 9ms/step - loss: 0.0016 - root_mean_squared_error: 0.0396 - val_loss: 0.0060 - val_root_mean_squared_error: 0.0775\n",
      "Epoch 38/50\n",
      "11/11 [==============================] - 0s 7ms/step - loss: 0.0015 - root_mean_squared_error: 0.0383 - val_loss: 0.0062 - val_root_mean_squared_error: 0.0786\n",
      "Epoch 39/50\n",
      "11/11 [==============================] - 0s 7ms/step - loss: 0.0014 - root_mean_squared_error: 0.0381 - val_loss: 0.0062 - val_root_mean_squared_error: 0.0785\n",
      "Epoch 40/50\n",
      "11/11 [==============================] - 0s 15ms/step - loss: 0.0015 - root_mean_squared_error: 0.0391 - val_loss: 0.0059 - val_root_mean_squared_error: 0.0770\n",
      "Epoch 41/50\n",
      "11/11 [==============================] - 0s 6ms/step - loss: 0.0014 - root_mean_squared_error: 0.0376 - val_loss: 0.0060 - val_root_mean_squared_error: 0.0774\n",
      "Epoch 42/50\n",
      "11/11 [==============================] - 0s 6ms/step - loss: 0.0015 - root_mean_squared_error: 0.0385 - val_loss: 0.0063 - val_root_mean_squared_error: 0.0792\n",
      "Epoch 43/50\n",
      "11/11 [==============================] - 0s 6ms/step - loss: 0.0014 - root_mean_squared_error: 0.0373 - val_loss: 0.0060 - val_root_mean_squared_error: 0.0772\n",
      "Epoch 44/50\n",
      "11/11 [==============================] - 0s 6ms/step - loss: 0.0014 - root_mean_squared_error: 0.0367 - val_loss: 0.0060 - val_root_mean_squared_error: 0.0774\n",
      "Epoch 45/50\n",
      "11/11 [==============================] - 0s 17ms/step - loss: 0.0012 - root_mean_squared_error: 0.0352 - val_loss: 0.0052 - val_root_mean_squared_error: 0.0722\n",
      "Epoch 46/50\n",
      "11/11 [==============================] - 0s 6ms/step - loss: 0.0012 - root_mean_squared_error: 0.0353 - val_loss: 0.0058 - val_root_mean_squared_error: 0.0760\n",
      "Epoch 47/50\n",
      "11/11 [==============================] - 0s 8ms/step - loss: 0.0012 - root_mean_squared_error: 0.0350 - val_loss: 0.0050 - val_root_mean_squared_error: 0.0710\n",
      "Epoch 48/50\n",
      "11/11 [==============================] - 0s 8ms/step - loss: 0.0014 - root_mean_squared_error: 0.0374 - val_loss: 0.0048 - val_root_mean_squared_error: 0.0693\n",
      "Epoch 49/50\n",
      "11/11 [==============================] - 0s 6ms/step - loss: 0.0015 - root_mean_squared_error: 0.0387 - val_loss: 0.0056 - val_root_mean_squared_error: 0.0746\n",
      "Epoch 50/50\n",
      "11/11 [==============================] - 0s 7ms/step - loss: 0.0013 - root_mean_squared_error: 0.0355 - val_loss: 0.0061 - val_root_mean_squared_error: 0.0780\n"
     ]
    },
    {
     "data": {
      "text/plain": [
       "<keras.callbacks.History at 0x1a219268040>"
      ]
     },
     "execution_count": 92,
     "metadata": {},
     "output_type": "execute_result"
    }
   ],
   "execution_count": 92
  },
  {
   "metadata": {
    "ExecuteTime": {
     "end_time": "2024-09-04T09:53:18.773337Z",
     "start_time": "2024-09-04T09:53:18.295614Z"
    }
   },
   "cell_type": "code",
   "source": [
    "from keras.models import load_model\n",
    "model = load_model('models/model.h5')"
   ],
   "id": "4e403419d7209d8f",
   "outputs": [],
   "execution_count": 93
  },
  {
   "metadata": {
    "ExecuteTime": {
     "end_time": "2024-09-04T09:53:39.426933Z",
     "start_time": "2024-09-04T09:53:39.190566Z"
    }
   },
   "cell_type": "code",
   "source": [
    "def inverse_scale(y_values_scaled):\n",
    "    y_values_reshaped = scaler.inverse_transform(y_values_scaled)\n",
    "    print(y_values_reshaped)\n",
    "    return y_values_reshaped\n",
    "\n",
    "def plot_predictions(model, X, y, start=0, end=100):\n",
    "    y_predictions_scaled = model.predict(X)\n",
    "    # rescale the data\n",
    "    df_y_predictions = pd.DataFrame(inverse_scale(y_predictions_scaled))\n",
    "    df_y_actuals = pd.DataFrame(inverse_scale(y))\n",
    "    df = pd.DataFrame(data={'Predictions humidity':df_y_predictions[1], 'Actuals humdity':df_y_actuals[0], 'Predictions temperature':df_y_predictions[1], 'Actuals temperature': df_y_actuals[1] })\n",
    "    plt.plot(df['Predictions humidity'][start:end])\n",
    "    plt.plot(df['Actuals humdity'][start:end])\n",
    "    return df#, MeanSquaredError(df_y_actuals, df_y_predictions)\n",
    "\n",
    "df = plot_predictions(model, X_scaled_test, y_scaled_test)\n",
    "#print(df)"
   ],
   "id": "fd485b877218330b",
   "outputs": [
    {
     "name": "stdout",
     "output_type": "stream",
     "text": [
      "2/2 [==============================] - 0s 2ms/step\n",
      "[[22.456846 29.030352]\n",
      " [22.464272 29.013668]\n",
      " [22.46501  28.988543]\n",
      " [22.455664 28.959927]\n",
      " [22.451332 28.93791 ]\n",
      " [22.444828 28.937197]\n",
      " [22.381166 29.031261]\n",
      " [22.306839 29.151304]\n",
      " [22.252054 29.25613 ]\n",
      " [22.21881  29.34557 ]\n",
      " [22.207535 29.4197  ]\n",
      " [22.214178 29.479263]\n",
      " [22.236305 29.527847]\n",
      " [22.324635 29.492443]\n",
      " [22.549747 29.360973]\n",
      " [22.852518 29.141167]\n",
      " [23.196575 28.9445  ]\n",
      " [23.528395 28.747215]\n",
      " [24.012043 28.293911]\n",
      " [24.463352 27.861368]\n",
      " [24.798178 27.537788]\n",
      " [25.012266 27.32005 ]\n",
      " [25.115852 27.197124]\n",
      " [25.127832 27.152319]\n",
      " [25.071533 27.165586]\n",
      " [25.00705  27.209114]\n",
      " [24.944654 27.253788]\n",
      " [24.91773  27.298035]\n",
      " [24.87017  27.331285]\n",
      " [24.841022 27.360004]\n",
      " [24.847294 27.369724]\n",
      " [24.847519 27.37008 ]\n",
      " [24.847519 27.37008 ]\n",
      " [24.847519 27.37008 ]\n",
      " [24.85224  27.367601]\n",
      " [24.855957 27.36614 ]\n",
      " [24.857002 27.36628 ]\n",
      " [24.863897 27.363281]\n",
      " [24.907515 27.341585]\n",
      " [24.99665  27.300041]\n",
      " [25.120403 27.247488]]\n",
      "[[21.91390728 29.        ]\n",
      " [22.         29.        ]\n",
      " [22.02290076 29.        ]\n",
      " [22.02888199 29.        ]\n",
      " [22.         29.05503457]\n",
      " [22.         29.72643119]\n",
      " [22.         30.        ]\n",
      " [22.         30.        ]\n",
      " [22.         30.        ]\n",
      " [22.00621118 30.        ]\n",
      " [22.         30.        ]\n",
      " [22.         30.        ]\n",
      " [22.05142857 29.44477513]\n",
      " [22.86536697 28.81872686]\n",
      " [23.0483871  28.        ]\n",
      " [23.88357605 28.        ]\n",
      " [24.         27.6655914 ]\n",
      " [24.56875    27.        ]\n",
      " [24.98421053 27.        ]\n",
      " [25.         27.        ]\n",
      " [25.         27.        ]\n",
      " [25.         27.        ]\n",
      " [25.         27.        ]\n",
      " [25.         27.        ]\n",
      " [25.         27.        ]\n",
      " [25.         27.        ]\n",
      " [25.         27.        ]\n",
      " [25.         27.        ]\n",
      " [25.         27.        ]\n",
      " [25.         27.        ]\n",
      " [25.         27.        ]\n",
      " [25.         27.        ]\n",
      " [25.         27.        ]\n",
      " [25.03399015 27.        ]\n",
      " [25.02514286 27.        ]\n",
      " [25.00884956 27.        ]\n",
      " [25.05517241 27.        ]\n",
      " [25.31947566 27.        ]\n",
      " [25.6375     27.        ]\n",
      " [25.89292929 27.        ]\n",
      " [26.         27.        ]]\n"
     ]
    },
    {
     "data": {
      "text/plain": [
       "<Figure size 640x480 with 1 Axes>"
      ],
      "image/png": "[encoded data removed]"
     },
     "metadata": {},
     "output_type": "display_data"
    }
   ],
   "execution_count": 95
  },
  {
   "metadata": {},
   "cell_type": "code",
   "source": "",
   "id": "35c180a93e915513",
   "outputs": [],
   "execution_count": null
  }
 ],
 "metadata": {
  "kernelspec": {
   "display_name": "Python 3",
   "language": "python",
   "name": "python3"
  },
  "language_info": {
   "codemirror_mode": {
    "name": "ipython",
    "version": 2
   },
   "file_extension": ".py",
   "mimetype": "text/x-python",
   "name": "python",
   "nbconvert_exporter": "python",
   "pygments_lexer": "ipython2",
   "version": "2.7.6"
  }
 },
 "nbformat": 4,
 "nbformat_minor": 5
}

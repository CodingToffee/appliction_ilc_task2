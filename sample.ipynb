{
 "cells": [
  {
   "metadata": {},
   "cell_type": "markdown",
   "source": [
    "# This is a sample Jupyter Notebook\n",
    "\n"
   ],
   "id": "8a77807f92f26ee"
  },
  {
   "metadata": {
    "ExecuteTime": {
     "end_time": "2024-08-27T10:13:06.549912Z",
     "start_time": "2024-08-27T10:13:06.488863Z"
    }
   },
   "cell_type": "code",
   "source": "!python --version",
   "id": "fbc121e30a2defb3",
   "outputs": [
    {
     "name": "stdout",
     "output_type": "stream",
     "text": [
      "Python 3.9.19\n"
     ]
    }
   ],
   "execution_count": 128
  },
  {
   "metadata": {},
   "cell_type": "markdown",
   "source": "# Prepare the data",
   "id": "8bb52321b479e88b"
  },
  {
   "metadata": {
    "ExecuteTime": {
     "end_time": "2024-08-27T10:13:06.611758Z",
     "start_time": "2024-08-27T10:13:06.557891Z"
    }
   },
   "cell_type": "code",
   "source": [
    "import pandas as pd\n",
    "# Have a look at the data\n",
    "df = pd.read_csv('data\\Environment variables-data-as-seriestocolumns-2022-03-01 16_36_12.csv')\n",
    "df.shape\n"
   ],
   "id": "3eb7e9fda15879c4",
   "outputs": [
    {
     "data": {
      "text/plain": [
       "(62724, 4)"
      ]
     },
     "execution_count": 129,
     "metadata": {},
     "output_type": "execute_result"
    }
   ],
   "execution_count": 129
  },
  {
   "metadata": {
    "ExecuteTime": {
     "end_time": "2024-08-27T10:13:06.641666Z",
     "start_time": "2024-08-27T10:13:06.614740Z"
    }
   },
   "cell_type": "code",
   "source": "df.head()",
   "id": "4a1d4b4054d365e0",
   "outputs": [
    {
     "data": {
      "text/plain": [
       "                  Time  TF.insideEnvironment.insideHumidity  \\\n",
       "0  2022-02-28 06:00:01                                 29.0   \n",
       "1  2022-02-28 06:00:01                                 29.0   \n",
       "2  2022-02-28 06:00:05                                 29.0   \n",
       "3  2022-02-28 06:00:06                                 29.0   \n",
       "4  2022-02-28 06:00:11                                 29.0   \n",
       "\n",
       "   TF.insideEnvironment.insideLight  TF.insideEnvironment.insideTemperature  \n",
       "0                              0.14                                    25.0  \n",
       "1                               NaN                                     NaN  \n",
       "2                               NaN                                     NaN  \n",
       "3                               NaN                                     NaN  \n",
       "4                               NaN                                     NaN  "
      ],
      "text/html": [
       "<div>\n",
       "<style scoped>\n",
       "    .dataframe tbody tr th:only-of-type {\n",
       "        vertical-align: middle;\n",
       "    }\n",
       "\n",
       "    .dataframe tbody tr th {\n",
       "        vertical-align: top;\n",
       "    }\n",
       "\n",
       "    .dataframe thead th {\n",
       "        text-align: right;\n",
       "    }\n",
       "</style>\n",
       "<table border=\"1\" class=\"dataframe\">\n",
       "  <thead>\n",
       "    <tr style=\"text-align: right;\">\n",
       "      <th></th>\n",
       "      <th>Time</th>\n",
       "      <th>TF.insideEnvironment.insideHumidity</th>\n",
       "      <th>TF.insideEnvironment.insideLight</th>\n",
       "      <th>TF.insideEnvironment.insideTemperature</th>\n",
       "    </tr>\n",
       "  </thead>\n",
       "  <tbody>\n",
       "    <tr>\n",
       "      <th>0</th>\n",
       "      <td>2022-02-28 06:00:01</td>\n",
       "      <td>29.0</td>\n",
       "      <td>0.14</td>\n",
       "      <td>25.0</td>\n",
       "    </tr>\n",
       "    <tr>\n",
       "      <th>1</th>\n",
       "      <td>2022-02-28 06:00:01</td>\n",
       "      <td>29.0</td>\n",
       "      <td>NaN</td>\n",
       "      <td>NaN</td>\n",
       "    </tr>\n",
       "    <tr>\n",
       "      <th>2</th>\n",
       "      <td>2022-02-28 06:00:05</td>\n",
       "      <td>29.0</td>\n",
       "      <td>NaN</td>\n",
       "      <td>NaN</td>\n",
       "    </tr>\n",
       "    <tr>\n",
       "      <th>3</th>\n",
       "      <td>2022-02-28 06:00:06</td>\n",
       "      <td>29.0</td>\n",
       "      <td>NaN</td>\n",
       "      <td>NaN</td>\n",
       "    </tr>\n",
       "    <tr>\n",
       "      <th>4</th>\n",
       "      <td>2022-02-28 06:00:11</td>\n",
       "      <td>29.0</td>\n",
       "      <td>NaN</td>\n",
       "      <td>NaN</td>\n",
       "    </tr>\n",
       "  </tbody>\n",
       "</table>\n",
       "</div>"
      ]
     },
     "execution_count": 130,
     "metadata": {},
     "output_type": "execute_result"
    }
   ],
   "execution_count": 130
  },
  {
   "metadata": {},
   "cell_type": "markdown",
   "source": "In Excel I had a look over the data and saw lots of duplicates and missing values. I will have to clean the data before I can work with it.",
   "id": "f0d0443ecc40e24c"
  },
  {
   "metadata": {
    "ExecuteTime": {
     "end_time": "2024-08-27T10:13:06.672584Z",
     "start_time": "2024-08-27T10:13:06.643661Z"
    }
   },
   "cell_type": "code",
   "source": [
    "df.drop_duplicates(inplace=True)\n",
    "df.shape"
   ],
   "id": "4f50aafebe0cd4a4",
   "outputs": [
    {
     "data": {
      "text/plain": [
       "(43471, 4)"
      ]
     },
     "execution_count": 131,
     "metadata": {},
     "output_type": "execute_result"
    }
   ],
   "execution_count": 131
  },
  {
   "metadata": {
    "ExecuteTime": {
     "end_time": "2024-08-27T10:13:06.702920Z",
     "start_time": "2024-08-27T10:13:06.675576Z"
    }
   },
   "cell_type": "code",
   "source": [
    "# count the duplicates that are left\n",
    "df.duplicated().sum()"
   ],
   "id": "ea8d8dc68276a776",
   "outputs": [
    {
     "data": {
      "text/plain": [
       "0"
      ]
     },
     "execution_count": 132,
     "metadata": {},
     "output_type": "execute_result"
    }
   ],
   "execution_count": 132
  },
  {
   "metadata": {
    "ExecuteTime": {
     "end_time": "2024-08-27T10:13:06.718878Z",
     "start_time": "2024-08-27T10:13:06.705914Z"
    }
   },
   "cell_type": "code",
   "source": "df.info()",
   "id": "78f0a35abd7476e5",
   "outputs": [
    {
     "name": "stdout",
     "output_type": "stream",
     "text": [
      "<class 'pandas.core.frame.DataFrame'>\n",
      "Index: 43471 entries, 0 to 62722\n",
      "Data columns (total 4 columns):\n",
      " #   Column                                  Non-Null Count  Dtype  \n",
      "---  ------                                  --------------  -----  \n",
      " 0   Time                                    43471 non-null  object \n",
      " 1   TF.insideEnvironment.insideHumidity     23816 non-null  float64\n",
      " 2   TF.insideEnvironment.insideLight        10153 non-null  float64\n",
      " 3   TF.insideEnvironment.insideTemperature  9508 non-null   float64\n",
      "dtypes: float64(3), object(1)\n",
      "memory usage: 1.7+ MB\n"
     ]
    }
   ],
   "execution_count": 133
  },
  {
   "metadata": {},
   "cell_type": "markdown",
   "source": [
    "So we have a different amount of data points for each column. We will have to interpolate the data to get a consistent dataset.\n",
    "But first lets rename the columns to make them more readable."
   ],
   "id": "a295c9179ed2948a"
  },
  {
   "metadata": {
    "ExecuteTime": {
     "end_time": "2024-08-27T10:13:06.749071Z",
     "start_time": "2024-08-27T10:13:06.720873Z"
    }
   },
   "cell_type": "code",
   "source": [
    "#rename the columns\n",
    "df.columns = ['Time', 'Humidity', 'Light', 'Temperature']\n",
    "df.head()"
   ],
   "id": "3f639356e32f8560",
   "outputs": [
    {
     "data": {
      "text/plain": [
       "                  Time  Humidity  Light  Temperature\n",
       "0  2022-02-28 06:00:01      29.0   0.14         25.0\n",
       "1  2022-02-28 06:00:01      29.0    NaN          NaN\n",
       "2  2022-02-28 06:00:05      29.0    NaN          NaN\n",
       "3  2022-02-28 06:00:06      29.0    NaN          NaN\n",
       "4  2022-02-28 06:00:11      29.0    NaN          NaN"
      ],
      "text/html": [
       "<div>\n",
       "<style scoped>\n",
       "    .dataframe tbody tr th:only-of-type {\n",
       "        vertical-align: middle;\n",
       "    }\n",
       "\n",
       "    .dataframe tbody tr th {\n",
       "        vertical-align: top;\n",
       "    }\n",
       "\n",
       "    .dataframe thead th {\n",
       "        text-align: right;\n",
       "    }\n",
       "</style>\n",
       "<table border=\"1\" class=\"dataframe\">\n",
       "  <thead>\n",
       "    <tr style=\"text-align: right;\">\n",
       "      <th></th>\n",
       "      <th>Time</th>\n",
       "      <th>Humidity</th>\n",
       "      <th>Light</th>\n",
       "      <th>Temperature</th>\n",
       "    </tr>\n",
       "  </thead>\n",
       "  <tbody>\n",
       "    <tr>\n",
       "      <th>0</th>\n",
       "      <td>2022-02-28 06:00:01</td>\n",
       "      <td>29.0</td>\n",
       "      <td>0.14</td>\n",
       "      <td>25.0</td>\n",
       "    </tr>\n",
       "    <tr>\n",
       "      <th>1</th>\n",
       "      <td>2022-02-28 06:00:01</td>\n",
       "      <td>29.0</td>\n",
       "      <td>NaN</td>\n",
       "      <td>NaN</td>\n",
       "    </tr>\n",
       "    <tr>\n",
       "      <th>2</th>\n",
       "      <td>2022-02-28 06:00:05</td>\n",
       "      <td>29.0</td>\n",
       "      <td>NaN</td>\n",
       "      <td>NaN</td>\n",
       "    </tr>\n",
       "    <tr>\n",
       "      <th>3</th>\n",
       "      <td>2022-02-28 06:00:06</td>\n",
       "      <td>29.0</td>\n",
       "      <td>NaN</td>\n",
       "      <td>NaN</td>\n",
       "    </tr>\n",
       "    <tr>\n",
       "      <th>4</th>\n",
       "      <td>2022-02-28 06:00:11</td>\n",
       "      <td>29.0</td>\n",
       "      <td>NaN</td>\n",
       "      <td>NaN</td>\n",
       "    </tr>\n",
       "  </tbody>\n",
       "</table>\n",
       "</div>"
      ]
     },
     "execution_count": 134,
     "metadata": {},
     "output_type": "execute_result"
    }
   ],
   "execution_count": 134
  },
  {
   "metadata": {},
   "cell_type": "markdown",
   "source": "",
   "id": "a6fdf2e17c14b44"
  },
  {
   "metadata": {},
   "cell_type": "markdown",
   "source": "# Visualize the data, Interpolating",
   "id": "2acd0348f974d5ca"
  },
  {
   "metadata": {
    "ExecuteTime": {
     "end_time": "2024-08-27T10:13:07.471160Z",
     "start_time": "2024-08-27T10:13:06.753061Z"
    }
   },
   "cell_type": "code",
   "source": [
    "# import matplotlib\n",
    "import matplotlib.pyplot as plt\n",
    "plt.figure(figsize=(20,10))\n",
    "plt.plot(df['Humidity'], marker='o', linestyle='', label='Humidity')\n",
    "plt.title('Humidity raw')\n",
    "plt.show()\n",
    "plt.plot(df['Light'], marker='o', linestyle='', label='Light')\n",
    "plt.title('Light raw')\n",
    "plt.show()\n",
    "plt.plot(df['Temperature'], marker='o', linestyle='', label='Temperature')\n",
    "plt.title('Temperature raw')\n",
    "plt.show()"
   ],
   "id": "ebbca37ed43e25ab",
   "outputs": [
    {
     "data": {
      "text/plain": [
       "<Figure size 2000x1000 with 1 Axes>"
      ],
      "image/png": "[encoded data removed]"
     },
     "metadata": {},
     "output_type": "display_data"
    },
    {
     "data": {
      "text/plain": [
       "<Figure size 640x480 with 1 Axes>"
      ],
      "image/png": "[encoded data removed]"
     },
     "metadata": {},
     "output_type": "display_data"
    },
    {
     "data": {
      "text/plain": [
       "<Figure size 640x480 with 1 Axes>"
      ],
      "image/png": "[encoded data removed]"
     },
     "metadata": {},
     "output_type": "display_data"
    }
   ],
   "execution_count": 135
  },
  {
   "metadata": {
    "ExecuteTime": {
     "end_time": "2024-08-27T10:13:07.548714Z",
     "start_time": "2024-08-27T10:13:07.473135Z"
    }
   },
   "cell_type": "code",
   "source": [
    "# to be able to use method 'time' we need to convert the Time column to datetime\n",
    "df['Time'] = pd.to_datetime(df['Time'])\n",
    "# set the Time column as index\n",
    "df.set_index('Time', inplace=True)\n",
    "\n",
    "# interpolate the data\n",
    "df_ip = df.copy()\n",
    "df_ip.interpolate(method='time', inplace=True)\n",
    "df_ip.head()\n"
   ],
   "id": "7476e798396ba1a7",
   "outputs": [
    {
     "data": {
      "text/plain": [
       "                     Humidity     Light  Temperature\n",
       "Time                                                \n",
       "2022-02-28 06:00:01      29.0  0.140000         25.0\n",
       "2022-02-28 06:00:01      29.0  0.140000         25.0\n",
       "2022-02-28 06:00:05      29.0  0.140149         25.0\n",
       "2022-02-28 06:00:06      29.0  0.140186         25.0\n",
       "2022-02-28 06:00:11      29.0  0.140372         25.0"
      ],
      "text/html": [
       "<div>\n",
       "<style scoped>\n",
       "    .dataframe tbody tr th:only-of-type {\n",
       "        vertical-align: middle;\n",
       "    }\n",
       "\n",
       "    .dataframe tbody tr th {\n",
       "        vertical-align: top;\n",
       "    }\n",
       "\n",
       "    .dataframe thead th {\n",
       "        text-align: right;\n",
       "    }\n",
       "</style>\n",
       "<table border=\"1\" class=\"dataframe\">\n",
       "  <thead>\n",
       "    <tr style=\"text-align: right;\">\n",
       "      <th></th>\n",
       "      <th>Humidity</th>\n",
       "      <th>Light</th>\n",
       "      <th>Temperature</th>\n",
       "    </tr>\n",
       "    <tr>\n",
       "      <th>Time</th>\n",
       "      <th></th>\n",
       "      <th></th>\n",
       "      <th></th>\n",
       "    </tr>\n",
       "  </thead>\n",
       "  <tbody>\n",
       "    <tr>\n",
       "      <th>2022-02-28 06:00:01</th>\n",
       "      <td>29.0</td>\n",
       "      <td>0.140000</td>\n",
       "      <td>25.0</td>\n",
       "    </tr>\n",
       "    <tr>\n",
       "      <th>2022-02-28 06:00:01</th>\n",
       "      <td>29.0</td>\n",
       "      <td>0.140000</td>\n",
       "      <td>25.0</td>\n",
       "    </tr>\n",
       "    <tr>\n",
       "      <th>2022-02-28 06:00:05</th>\n",
       "      <td>29.0</td>\n",
       "      <td>0.140149</td>\n",
       "      <td>25.0</td>\n",
       "    </tr>\n",
       "    <tr>\n",
       "      <th>2022-02-28 06:00:06</th>\n",
       "      <td>29.0</td>\n",
       "      <td>0.140186</td>\n",
       "      <td>25.0</td>\n",
       "    </tr>\n",
       "    <tr>\n",
       "      <th>2022-02-28 06:00:11</th>\n",
       "      <td>29.0</td>\n",
       "      <td>0.140372</td>\n",
       "      <td>25.0</td>\n",
       "    </tr>\n",
       "  </tbody>\n",
       "</table>\n",
       "</div>"
      ]
     },
     "execution_count": 136,
     "metadata": {},
     "output_type": "execute_result"
    }
   ],
   "execution_count": 136
  },
  {
   "metadata": {
    "ExecuteTime": {
     "end_time": "2024-08-27T10:13:07.579207Z",
     "start_time": "2024-08-27T10:13:07.550709Z"
    }
   },
   "cell_type": "code",
   "source": [
    "# resample the data to have a consistent time interval\n",
    "df_ip = df_ip.resample('30min').mean()\n",
    "df_ip.loc['2022-02-28']"
   ],
   "id": "64919cee72bf6a02",
   "outputs": [
    {
     "data": {
      "text/plain": [
       "                      Humidity     Light  Temperature\n",
       "Time                                                 \n",
       "2022-02-28 06:00:00  29.000000  0.175445    25.000000\n",
       "2022-02-28 06:30:00  29.000000  0.238253    25.000000\n",
       "2022-02-28 07:00:00  29.000000  0.269863    25.000000\n",
       "2022-02-28 07:30:00  29.000000  0.356335    25.000000\n",
       "2022-02-28 08:00:00  29.000000  0.487966    25.000000\n",
       "2022-02-28 08:30:00  29.000000  0.573315    25.000000\n",
       "2022-02-28 09:00:00  29.000000  0.782015    25.000000\n",
       "2022-02-28 09:30:00  29.000000  1.145044    25.000000\n",
       "2022-02-28 10:00:00  29.000000  1.172823    25.001064\n",
       "2022-02-28 10:30:00  28.279322  1.343254    25.941466\n",
       "2022-02-28 11:00:00  27.361685  1.323784    26.364060\n",
       "2022-02-28 11:30:00  26.390437  0.994073    27.000021\n",
       "2022-02-28 12:00:00  25.574679  1.300611    27.958890\n",
       "2022-02-28 12:30:00  25.000000  1.345288    28.245092\n",
       "2022-02-28 13:00:00  24.400620  1.376266    29.000000\n",
       "2022-02-28 13:30:00  24.000000  1.450235    29.000000\n",
       "2022-02-28 14:00:00  24.000000  1.548794    29.748017\n",
       "2022-02-28 14:30:00  24.000000  1.371565    30.000000\n",
       "2022-02-28 15:00:00  23.974206  1.213989    30.000000\n",
       "2022-02-28 15:30:00  23.993277  1.312816    30.000000\n",
       "2022-02-28 16:00:00  24.000000  1.043531    30.000000\n",
       "2022-02-28 16:30:00  24.000000  0.906384    30.000000\n",
       "2022-02-28 17:00:00  24.000000  0.419311    30.000000\n",
       "2022-02-28 17:30:00  24.017112  0.264300    30.000000\n",
       "2022-02-28 18:00:00  24.340792  0.221021    29.132094\n",
       "2022-02-28 18:30:00  24.985725  0.140000    29.000000\n",
       "2022-02-28 19:00:00  25.363865  0.140000    28.545141\n",
       "2022-02-28 19:30:00  26.000000  0.140000    28.000000\n",
       "2022-02-28 20:00:00  26.656772  0.140000    27.979275\n",
       "2022-02-28 20:30:00  27.000000  0.140000    27.140837\n",
       "2022-02-28 21:00:00  27.176844  0.140000    27.000000\n",
       "2022-02-28 21:30:00  27.921011  0.140000    27.000000\n",
       "2022-02-28 22:00:00  28.000000  0.140000    27.000000\n",
       "2022-02-28 22:30:00        NaN       NaN          NaN\n",
       "2022-02-28 23:00:00        NaN       NaN          NaN\n",
       "2022-02-28 23:30:00        NaN       NaN          NaN"
      ],
      "text/html": [
       "<div>\n",
       "<style scoped>\n",
       "    .dataframe tbody tr th:only-of-type {\n",
       "        vertical-align: middle;\n",
       "    }\n",
       "\n",
       "    .dataframe tbody tr th {\n",
       "        vertical-align: top;\n",
       "    }\n",
       "\n",
       "    .dataframe thead th {\n",
       "        text-align: right;\n",
       "    }\n",
       "</style>\n",
       "<table border=\"1\" class=\"dataframe\">\n",
       "  <thead>\n",
       "    <tr style=\"text-align: right;\">\n",
       "      <th></th>\n",
       "      <th>Humidity</th>\n",
       "      <th>Light</th>\n",
       "      <th>Temperature</th>\n",
       "    </tr>\n",
       "    <tr>\n",
       "      <th>Time</th>\n",
       "      <th></th>\n",
       "      <th></th>\n",
       "      <th></th>\n",
       "    </tr>\n",
       "  </thead>\n",
       "  <tbody>\n",
       "    <tr>\n",
       "      <th>2022-02-28 06:00:00</th>\n",
       "      <td>29.000000</td>\n",
       "      <td>0.175445</td>\n",
       "      <td>25.000000</td>\n",
       "    </tr>\n",
       "    <tr>\n",
       "      <th>2022-02-28 06:30:00</th>\n",
       "      <td>29.000000</td>\n",
       "      <td>0.238253</td>\n",
       "      <td>25.000000</td>\n",
       "    </tr>\n",
       "    <tr>\n",
       "      <th>2022-02-28 07:00:00</th>\n",
       "      <td>29.000000</td>\n",
       "      <td>0.269863</td>\n",
       "      <td>25.000000</td>\n",
       "    </tr>\n",
       "    <tr>\n",
       "      <th>2022-02-28 07:30:00</th>\n",
       "      <td>29.000000</td>\n",
       "      <td>0.356335</td>\n",
       "      <td>25.000000</td>\n",
       "    </tr>\n",
       "    <tr>\n",
       "      <th>2022-02-28 08:00:00</th>\n",
       "      <td>29.000000</td>\n",
       "      <td>0.487966</td>\n",
       "      <td>25.000000</td>\n",
       "    </tr>\n",
       "    <tr>\n",
       "      <th>2022-02-28 08:30:00</th>\n",
       "      <td>29.000000</td>\n",
       "      <td>0.573315</td>\n",
       "      <td>25.000000</td>\n",
       "    </tr>\n",
       "    <tr>\n",
       "      <th>2022-02-28 09:00:00</th>\n",
       "      <td>29.000000</td>\n",
       "      <td>0.782015</td>\n",
       "      <td>25.000000</td>\n",
       "    </tr>\n",
       "    <tr>\n",
       "      <th>2022-02-28 09:30:00</th>\n",
       "      <td>29.000000</td>\n",
       "      <td>1.145044</td>\n",
       "      <td>25.000000</td>\n",
       "    </tr>\n",
       "    <tr>\n",
       "      <th>2022-02-28 10:00:00</th>\n",
       "      <td>29.000000</td>\n",
       "      <td>1.172823</td>\n",
       "      <td>25.001064</td>\n",
       "    </tr>\n",
       "    <tr>\n",
       "      <th>2022-02-28 10:30:00</th>\n",
       "      <td>28.279322</td>\n",
       "      <td>1.343254</td>\n",
       "      <td>25.941466</td>\n",
       "    </tr>\n",
       "    <tr>\n",
       "      <th>2022-02-28 11:00:00</th>\n",
       "      <td>27.361685</td>\n",
       "      <td>1.323784</td>\n",
       "      <td>26.364060</td>\n",
       "    </tr>\n",
       "    <tr>\n",
       "      <th>2022-02-28 11:30:00</th>\n",
       "      <td>26.390437</td>\n",
       "      <td>0.994073</td>\n",
       "      <td>27.000021</td>\n",
       "    </tr>\n",
       "    <tr>\n",
       "      <th>2022-02-28 12:00:00</th>\n",
       "      <td>25.574679</td>\n",
       "      <td>1.300611</td>\n",
       "      <td>27.958890</td>\n",
       "    </tr>\n",
       "    <tr>\n",
       "      <th>2022-02-28 12:30:00</th>\n",
       "      <td>25.000000</td>\n",
       "      <td>1.345288</td>\n",
       "      <td>28.245092</td>\n",
       "    </tr>\n",
       "    <tr>\n",
       "      <th>2022-02-28 13:00:00</th>\n",
       "      <td>24.400620</td>\n",
       "      <td>1.376266</td>\n",
       "      <td>29.000000</td>\n",
       "    </tr>\n",
       "    <tr>\n",
       "      <th>2022-02-28 13:30:00</th>\n",
       "      <td>24.000000</td>\n",
       "      <td>1.450235</td>\n",
       "      <td>29.000000</td>\n",
       "    </tr>\n",
       "    <tr>\n",
       "      <th>2022-02-28 14:00:00</th>\n",
       "      <td>24.000000</td>\n",
       "      <td>1.548794</td>\n",
       "      <td>29.748017</td>\n",
       "    </tr>\n",
       "    <tr>\n",
       "      <th>2022-02-28 14:30:00</th>\n",
       "      <td>24.000000</td>\n",
       "      <td>1.371565</td>\n",
       "      <td>30.000000</td>\n",
       "    </tr>\n",
       "    <tr>\n",
       "      <th>2022-02-28 15:00:00</th>\n",
       "      <td>23.974206</td>\n",
       "      <td>1.213989</td>\n",
       "      <td>30.000000</td>\n",
       "    </tr>\n",
       "    <tr>\n",
       "      <th>2022-02-28 15:30:00</th>\n",
       "      <td>23.993277</td>\n",
       "      <td>1.312816</td>\n",
       "      <td>30.000000</td>\n",
       "    </tr>\n",
       "    <tr>\n",
       "      <th>2022-02-28 16:00:00</th>\n",
       "      <td>24.000000</td>\n",
       "      <td>1.043531</td>\n",
       "      <td>30.000000</td>\n",
       "    </tr>\n",
       "    <tr>\n",
       "      <th>2022-02-28 16:30:00</th>\n",
       "      <td>24.000000</td>\n",
       "      <td>0.906384</td>\n",
       "      <td>30.000000</td>\n",
       "    </tr>\n",
       "    <tr>\n",
       "      <th>2022-02-28 17:00:00</th>\n",
       "      <td>24.000000</td>\n",
       "      <td>0.419311</td>\n",
       "      <td>30.000000</td>\n",
       "    </tr>\n",
       "    <tr>\n",
       "      <th>2022-02-28 17:30:00</th>\n",
       "      <td>24.017112</td>\n",
       "      <td>0.264300</td>\n",
       "      <td>30.000000</td>\n",
       "    </tr>\n",
       "    <tr>\n",
       "      <th>2022-02-28 18:00:00</th>\n",
       "      <td>24.340792</td>\n",
       "      <td>0.221021</td>\n",
       "      <td>29.132094</td>\n",
       "    </tr>\n",
       "    <tr>\n",
       "      <th>2022-02-28 18:30:00</th>\n",
       "      <td>24.985725</td>\n",
       "      <td>0.140000</td>\n",
       "      <td>29.000000</td>\n",
       "    </tr>\n",
       "    <tr>\n",
       "      <th>2022-02-28 19:00:00</th>\n",
       "      <td>25.363865</td>\n",
       "      <td>0.140000</td>\n",
       "      <td>28.545141</td>\n",
       "    </tr>\n",
       "    <tr>\n",
       "      <th>2022-02-28 19:30:00</th>\n",
       "      <td>26.000000</td>\n",
       "      <td>0.140000</td>\n",
       "      <td>28.000000</td>\n",
       "    </tr>\n",
       "    <tr>\n",
       "      <th>2022-02-28 20:00:00</th>\n",
       "      <td>26.656772</td>\n",
       "      <td>0.140000</td>\n",
       "      <td>27.979275</td>\n",
       "    </tr>\n",
       "    <tr>\n",
       "      <th>2022-02-28 20:30:00</th>\n",
       "      <td>27.000000</td>\n",
       "      <td>0.140000</td>\n",
       "      <td>27.140837</td>\n",
       "    </tr>\n",
       "    <tr>\n",
       "      <th>2022-02-28 21:00:00</th>\n",
       "      <td>27.176844</td>\n",
       "      <td>0.140000</td>\n",
       "      <td>27.000000</td>\n",
       "    </tr>\n",
       "    <tr>\n",
       "      <th>2022-02-28 21:30:00</th>\n",
       "      <td>27.921011</td>\n",
       "      <td>0.140000</td>\n",
       "      <td>27.000000</td>\n",
       "    </tr>\n",
       "    <tr>\n",
       "      <th>2022-02-28 22:00:00</th>\n",
       "      <td>28.000000</td>\n",
       "      <td>0.140000</td>\n",
       "      <td>27.000000</td>\n",
       "    </tr>\n",
       "    <tr>\n",
       "      <th>2022-02-28 22:30:00</th>\n",
       "      <td>NaN</td>\n",
       "      <td>NaN</td>\n",
       "      <td>NaN</td>\n",
       "    </tr>\n",
       "    <tr>\n",
       "      <th>2022-02-28 23:00:00</th>\n",
       "      <td>NaN</td>\n",
       "      <td>NaN</td>\n",
       "      <td>NaN</td>\n",
       "    </tr>\n",
       "    <tr>\n",
       "      <th>2022-02-28 23:30:00</th>\n",
       "      <td>NaN</td>\n",
       "      <td>NaN</td>\n",
       "      <td>NaN</td>\n",
       "    </tr>\n",
       "  </tbody>\n",
       "</table>\n",
       "</div>"
      ]
     },
     "execution_count": 137,
     "metadata": {},
     "output_type": "execute_result"
    }
   ],
   "execution_count": 137
  },
  {
   "metadata": {
    "ExecuteTime": {
     "end_time": "2024-08-27T10:13:07.595164Z",
     "start_time": "2024-08-27T10:13:07.582199Z"
    }
   },
   "cell_type": "code",
   "source": "df_ip.info()",
   "id": "d45185239eca8be6",
   "outputs": [
    {
     "name": "stdout",
     "output_type": "stream",
     "text": [
      "<class 'pandas.core.frame.DataFrame'>\n",
      "DatetimeIndex: 70 entries, 2022-02-28 06:00:00 to 2022-03-01 16:30:00\n",
      "Freq: 30min\n",
      "Data columns (total 3 columns):\n",
      " #   Column       Non-Null Count  Dtype  \n",
      "---  ------       --------------  -----  \n",
      " 0   Humidity     55 non-null     float64\n",
      " 1   Light        55 non-null     float64\n",
      " 2   Temperature  55 non-null     float64\n",
      "dtypes: float64(3)\n",
      "memory usage: 2.2 KB\n"
     ]
    }
   ],
   "execution_count": 138
  },
  {
   "metadata": {
    "ExecuteTime": {
     "end_time": "2024-08-27T10:13:08.239440Z",
     "start_time": "2024-08-27T10:13:07.597160Z"
    }
   },
   "cell_type": "code",
   "source": [
    "plt.figure(figsize=(20,10))\n",
    "plt.plot(df_ip['Humidity'], marker='o', linestyle='', label='Humidity')\n",
    "plt.title('Humidity interpolated')\n",
    "plt.show()\n",
    "plt.plot(df_ip['Light'], marker='o', linestyle='', label='Humidity')\n",
    "plt.title('Light interpolated')\n",
    "plt.show()\n",
    "plt.plot(df_ip['Temperature'], marker='o', linestyle='', label='Temperature')\n",
    "plt.title('Temperature interpolated')\n",
    "plt.show()"
   ],
   "id": "d5d3bc056c336951",
   "outputs": [
    {
     "data": {
      "text/plain": [
       "<Figure size 2000x1000 with 1 Axes>"
      ],
      "image/png": "[encoded data removed]"
     },
     "metadata": {},
     "output_type": "display_data"
    },
    {
     "data": {
      "text/plain": [
       "<Figure size 640x480 with 1 Axes>"
      ],
      "image/png": "[encoded data removed]"
     },
     "metadata": {},
     "output_type": "display_data"
    },
    {
     "data": {
      "text/plain": [
       "<Figure size 640x480 with 1 Axes>"
      ],
      "image/png": "[encoded data removed]"
     },
     "metadata": {},
     "output_type": "display_data"
    }
   ],
   "execution_count": 139
  },
  {
   "metadata": {},
   "cell_type": "markdown",
   "source": "The interpolated data looks much better. Still weird, that we have this gap in the data. But at least it's a consistent gap.",
   "id": "2615efdfb1bbe97"
  },
  {
   "metadata": {
    "ExecuteTime": {
     "end_time": "2024-08-27T10:13:08.269956Z",
     "start_time": "2024-08-27T10:13:08.241436Z"
    }
   },
   "cell_type": "code",
   "source": "df_ip.describe()",
   "id": "9ea672918d3778db",
   "outputs": [
    {
     "data": {
      "text/plain": [
       "        Humidity       Light  Temperature\n",
       "count  55.000000   55.000000    55.000000\n",
       "mean   26.018919   37.590990    27.301791\n",
       "std     2.130587  113.575547     1.804192\n",
       "min    21.981841    0.140000    25.000000\n",
       "25%    24.178952    0.254193    25.001198\n",
       "50%    25.574679    1.043531    27.000021\n",
       "75%    28.000000    1.318300    29.000000\n",
       "max    29.000000  494.511384    30.000000"
      ],
      "text/html": [
       "<div>\n",
       "<style scoped>\n",
       "    .dataframe tbody tr th:only-of-type {\n",
       "        vertical-align: middle;\n",
       "    }\n",
       "\n",
       "    .dataframe tbody tr th {\n",
       "        vertical-align: top;\n",
       "    }\n",
       "\n",
       "    .dataframe thead th {\n",
       "        text-align: right;\n",
       "    }\n",
       "</style>\n",
       "<table border=\"1\" class=\"dataframe\">\n",
       "  <thead>\n",
       "    <tr style=\"text-align: right;\">\n",
       "      <th></th>\n",
       "      <th>Humidity</th>\n",
       "      <th>Light</th>\n",
       "      <th>Temperature</th>\n",
       "    </tr>\n",
       "  </thead>\n",
       "  <tbody>\n",
       "    <tr>\n",
       "      <th>count</th>\n",
       "      <td>55.000000</td>\n",
       "      <td>55.000000</td>\n",
       "      <td>55.000000</td>\n",
       "    </tr>\n",
       "    <tr>\n",
       "      <th>mean</th>\n",
       "      <td>26.018919</td>\n",
       "      <td>37.590990</td>\n",
       "      <td>27.301791</td>\n",
       "    </tr>\n",
       "    <tr>\n",
       "      <th>std</th>\n",
       "      <td>2.130587</td>\n",
       "      <td>113.575547</td>\n",
       "      <td>1.804192</td>\n",
       "    </tr>\n",
       "    <tr>\n",
       "      <th>min</th>\n",
       "      <td>21.981841</td>\n",
       "      <td>0.140000</td>\n",
       "      <td>25.000000</td>\n",
       "    </tr>\n",
       "    <tr>\n",
       "      <th>25%</th>\n",
       "      <td>24.178952</td>\n",
       "      <td>0.254193</td>\n",
       "      <td>25.001198</td>\n",
       "    </tr>\n",
       "    <tr>\n",
       "      <th>50%</th>\n",
       "      <td>25.574679</td>\n",
       "      <td>1.043531</td>\n",
       "      <td>27.000021</td>\n",
       "    </tr>\n",
       "    <tr>\n",
       "      <th>75%</th>\n",
       "      <td>28.000000</td>\n",
       "      <td>1.318300</td>\n",
       "      <td>29.000000</td>\n",
       "    </tr>\n",
       "    <tr>\n",
       "      <th>max</th>\n",
       "      <td>29.000000</td>\n",
       "      <td>494.511384</td>\n",
       "      <td>30.000000</td>\n",
       "    </tr>\n",
       "  </tbody>\n",
       "</table>\n",
       "</div>"
      ]
     },
     "execution_count": 140,
     "metadata": {},
     "output_type": "execute_result"
    }
   ],
   "execution_count": 140
  },
  {
   "metadata": {},
   "cell_type": "markdown",
   "source": "# Preparing the data for the model",
   "id": "4fa9fb20295b8496"
  },
  {
   "metadata": {
    "ExecuteTime": {
     "end_time": "2024-08-27T16:07:49.823925Z",
     "start_time": "2024-08-27T16:07:49.767208Z"
    }
   },
   "cell_type": "code",
   "source": [
    "# create lagged features\n",
    "humidity = df_ip['Humidity']\n",
    "df_ip.to_csv('data\\df_ip.csv')\n",
    "# data_humidity = pd.concat([humidity.shift(1), humidity], axis=1)\n",
    "# data_humidity.info()\n",
    "# data_humidity = pd.concat([humidity.shift(7), humidity.shift(6), humidity.shift(5), humidity.shift(4), humidity.shift(3), humidity.shift(2), humidity.shift(1), humidity], axis=1)\n",
    "# data_humidity.columns = ['t-7', 't-6', 't-5', 't-4', 't-3', 't-2', 't-1', 'humidity']\n",
    "\n",
    "# write a for loop to create 48 lagged features\n",
    "# data_humidity = pd.DataFrame()\n",
    "# for i in range(48):\n",
    "#     data_humidity = pd.concat([data_humidity, humidity.shift(48-i)], axis=1)\n",
    "#     data_humidity.rename(columns={data_humidity.columns[i]: f't-{48-i}'}, inplace=True)\n",
    "# \n",
    "# data_humidity.info()\n",
    "\n",
    "\n",
    "\n",
    "\n",
    "\n"
   ],
   "id": "6850b6fc05c97b44",
   "outputs": [],
   "execution_count": 160
  }
 ],
 "metadata": {
  "kernelspec": {
   "display_name": "Python 3",
   "language": "python",
   "name": "python3"
  },
  "language_info": {
   "codemirror_mode": {
    "name": "ipython",
    "version": 2
   },
   "file_extension": ".py",
   "mimetype": "text/x-python",
   "name": "python",
   "nbconvert_exporter": "python",
   "pygments_lexer": "ipython2",
   "version": "2.7.6"
  }
 },
 "nbformat": 4,
 "nbformat_minor": 5
}

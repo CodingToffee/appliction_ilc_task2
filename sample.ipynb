{
 "cells": [
  {
   "metadata": {},
   "cell_type": "markdown",
   "source": [
    "# This is a sample Jupyter Notebook\n",
    "\n"
   ],
   "id": "8a77807f92f26ee"
  },
  {
   "metadata": {
    "ExecuteTime": {
     "end_time": "2024-08-26T14:48:43.335207Z",
     "start_time": "2024-08-26T14:48:43.285439Z"
    }
   },
   "cell_type": "code",
   "source": "!python --version",
   "id": "fbc121e30a2defb3",
   "outputs": [
    {
     "name": "stdout",
     "output_type": "stream",
     "text": [
      "Python 3.9.19\n"
     ]
    }
   ],
   "execution_count": 13
  },
  {
   "metadata": {},
   "cell_type": "markdown",
   "source": "# Prepare the data",
   "id": "8bb52321b479e88b"
  },
  {
   "metadata": {
    "ExecuteTime": {
     "end_time": "2024-08-26T14:48:43.396022Z",
     "start_time": "2024-08-26T14:48:43.338178Z"
    }
   },
   "cell_type": "code",
   "source": [
    "import pandas as pd\n",
    "# Have a look at the data\n",
    "df = pd.read_csv('data\\Environment variables-data-as-seriestocolumns-2022-03-01 16_36_12.csv')\n",
    "df.shape\n"
   ],
   "id": "3eb7e9fda15879c4",
   "outputs": [
    {
     "data": {
      "text/plain": [
       "(62724, 4)"
      ]
     },
     "execution_count": 14,
     "metadata": {},
     "output_type": "execute_result"
    }
   ],
   "execution_count": 14
  },
  {
   "metadata": {
    "ExecuteTime": {
     "end_time": "2024-08-26T14:48:43.411643Z",
     "start_time": "2024-08-26T14:48:43.398017Z"
    }
   },
   "cell_type": "code",
   "source": "df.head()",
   "id": "4a1d4b4054d365e0",
   "outputs": [
    {
     "data": {
      "text/plain": [
       "                  Time  TF.insideEnvironment.insideHumidity  \\\n",
       "0  2022-02-28 06:00:01                                 29.0   \n",
       "1  2022-02-28 06:00:01                                 29.0   \n",
       "2  2022-02-28 06:00:05                                 29.0   \n",
       "3  2022-02-28 06:00:06                                 29.0   \n",
       "4  2022-02-28 06:00:11                                 29.0   \n",
       "\n",
       "   TF.insideEnvironment.insideLight  TF.insideEnvironment.insideTemperature  \n",
       "0                              0.14                                    25.0  \n",
       "1                               NaN                                     NaN  \n",
       "2                               NaN                                     NaN  \n",
       "3                               NaN                                     NaN  \n",
       "4                               NaN                                     NaN  "
      ],
      "text/html": [
       "<div>\n",
       "<style scoped>\n",
       "    .dataframe tbody tr th:only-of-type {\n",
       "        vertical-align: middle;\n",
       "    }\n",
       "\n",
       "    .dataframe tbody tr th {\n",
       "        vertical-align: top;\n",
       "    }\n",
       "\n",
       "    .dataframe thead th {\n",
       "        text-align: right;\n",
       "    }\n",
       "</style>\n",
       "<table border=\"1\" class=\"dataframe\">\n",
       "  <thead>\n",
       "    <tr style=\"text-align: right;\">\n",
       "      <th></th>\n",
       "      <th>Time</th>\n",
       "      <th>TF.insideEnvironment.insideHumidity</th>\n",
       "      <th>TF.insideEnvironment.insideLight</th>\n",
       "      <th>TF.insideEnvironment.insideTemperature</th>\n",
       "    </tr>\n",
       "  </thead>\n",
       "  <tbody>\n",
       "    <tr>\n",
       "      <th>0</th>\n",
       "      <td>2022-02-28 06:00:01</td>\n",
       "      <td>29.0</td>\n",
       "      <td>0.14</td>\n",
       "      <td>25.0</td>\n",
       "    </tr>\n",
       "    <tr>\n",
       "      <th>1</th>\n",
       "      <td>2022-02-28 06:00:01</td>\n",
       "      <td>29.0</td>\n",
       "      <td>NaN</td>\n",
       "      <td>NaN</td>\n",
       "    </tr>\n",
       "    <tr>\n",
       "      <th>2</th>\n",
       "      <td>2022-02-28 06:00:05</td>\n",
       "      <td>29.0</td>\n",
       "      <td>NaN</td>\n",
       "      <td>NaN</td>\n",
       "    </tr>\n",
       "    <tr>\n",
       "      <th>3</th>\n",
       "      <td>2022-02-28 06:00:06</td>\n",
       "      <td>29.0</td>\n",
       "      <td>NaN</td>\n",
       "      <td>NaN</td>\n",
       "    </tr>\n",
       "    <tr>\n",
       "      <th>4</th>\n",
       "      <td>2022-02-28 06:00:11</td>\n",
       "      <td>29.0</td>\n",
       "      <td>NaN</td>\n",
       "      <td>NaN</td>\n",
       "    </tr>\n",
       "  </tbody>\n",
       "</table>\n",
       "</div>"
      ]
     },
     "execution_count": 15,
     "metadata": {},
     "output_type": "execute_result"
    }
   ],
   "execution_count": 15
  },
  {
   "metadata": {
    "ExecuteTime": {
     "end_time": "2024-08-26T14:48:43.473481Z",
     "start_time": "2024-08-26T14:48:43.413641Z"
    }
   },
   "cell_type": "code",
   "source": [
    "# Indexing over timestamp\n",
    "df['Time'] = pd.to_datetime(df['Time'])\n",
    "# check if it worked\n",
    "df.dtypes"
   ],
   "id": "4f50aafebe0cd4a4",
   "outputs": [
    {
     "data": {
      "text/plain": [
       "Time                                      datetime64[ns]\n",
       "TF.insideEnvironment.insideHumidity              float64\n",
       "TF.insideEnvironment.insideLight                 float64\n",
       "TF.insideEnvironment.insideTemperature           float64\n",
       "dtype: object"
      ]
     },
     "execution_count": 16,
     "metadata": {},
     "output_type": "execute_result"
    }
   ],
   "execution_count": 16
  },
  {
   "metadata": {
    "ExecuteTime": {
     "end_time": "2024-08-26T14:48:43.504399Z",
     "start_time": "2024-08-26T14:48:43.478469Z"
    }
   },
   "cell_type": "code",
   "source": "#df.set_index('Time', inplace=True)",
   "id": "ea8d8dc68276a776",
   "outputs": [],
   "execution_count": 17
  },
  {
   "metadata": {},
   "cell_type": "markdown",
   "source": "# The data looks like the three values of one timestamp are distributed over three different rows. Lets check if that is really the case. ",
   "id": "514be0d41c6de50"
  },
  {
   "metadata": {
    "ExecuteTime": {
     "end_time": "2024-08-26T14:51:31.423677Z",
     "start_time": "2024-08-26T14:51:31.404708Z"
    }
   },
   "cell_type": "code",
   "source": [
    "# get datapoints of the timestamp of the third entry\n",
    "df[df['Time'] == df['Time'][2]]\n"
   ],
   "id": "ba4f639b9b6994cf",
   "outputs": [
    {
     "data": {
      "text/plain": [
       "                 Time  TF.insideEnvironment.insideHumidity  \\\n",
       "2 2022-02-28 06:00:05                                 29.0   \n",
       "\n",
       "   TF.insideEnvironment.insideLight  TF.insideEnvironment.insideTemperature  \n",
       "2                               NaN                                     NaN  "
      ],
      "text/html": [
       "<div>\n",
       "<style scoped>\n",
       "    .dataframe tbody tr th:only-of-type {\n",
       "        vertical-align: middle;\n",
       "    }\n",
       "\n",
       "    .dataframe tbody tr th {\n",
       "        vertical-align: top;\n",
       "    }\n",
       "\n",
       "    .dataframe thead th {\n",
       "        text-align: right;\n",
       "    }\n",
       "</style>\n",
       "<table border=\"1\" class=\"dataframe\">\n",
       "  <thead>\n",
       "    <tr style=\"text-align: right;\">\n",
       "      <th></th>\n",
       "      <th>Time</th>\n",
       "      <th>TF.insideEnvironment.insideHumidity</th>\n",
       "      <th>TF.insideEnvironment.insideLight</th>\n",
       "      <th>TF.insideEnvironment.insideTemperature</th>\n",
       "    </tr>\n",
       "  </thead>\n",
       "  <tbody>\n",
       "    <tr>\n",
       "      <th>2</th>\n",
       "      <td>2022-02-28 06:00:05</td>\n",
       "      <td>29.0</td>\n",
       "      <td>NaN</td>\n",
       "      <td>NaN</td>\n",
       "    </tr>\n",
       "  </tbody>\n",
       "</table>\n",
       "</div>"
      ]
     },
     "execution_count": 21,
     "metadata": {},
     "output_type": "execute_result"
    }
   ],
   "execution_count": 21
  },
  {
   "metadata": {},
   "cell_type": "markdown",
   "source": "So it's not the case. Lets count the nan values in each column to get a better understanding of the data.",
   "id": "9211257563b11f67"
  },
  {
   "metadata": {
    "ExecuteTime": {
     "end_time": "2024-08-26T15:01:40.273100Z",
     "start_time": "2024-08-26T15:01:40.262117Z"
    }
   },
   "cell_type": "code",
   "source": "df.isna().sum()",
   "id": "2d805e4aa5547348",
   "outputs": [
    {
     "data": {
      "text/plain": [
       "Time                                          0\n",
       "TF.insideEnvironment.insideHumidity       24632\n",
       "TF.insideEnvironment.insideLight          51713\n",
       "TF.insideEnvironment.insideTemperature    49097\n",
       "dtype: int64"
      ]
     },
     "execution_count": 23,
     "metadata": {},
     "output_type": "execute_result"
    }
   ],
   "execution_count": 23
  },
  {
   "metadata": {},
   "cell_type": "markdown",
   "source": [
    "So we have a different amount of data points for each column. We will have to interpolate the data to get a consistent dataset.\n",
    "But first lets rename the columns to make them more readable. And also get rid of duplicates."
   ],
   "id": "a295c9179ed2948a"
  },
  {
   "metadata": {
    "ExecuteTime": {
     "end_time": "2024-08-26T15:09:58.283077Z",
     "start_time": "2024-08-26T15:09:58.269114Z"
    }
   },
   "cell_type": "code",
   "source": [
    "#rename the columns\n",
    "df.columns = ['Time', 'Humidity', 'Light', 'Temperature']\n",
    "df.head()"
   ],
   "id": "3f639356e32f8560",
   "outputs": [
    {
     "data": {
      "text/plain": [
       "                 Time  Humidity  Light  Temperature\n",
       "0 2022-02-28 06:00:01      29.0   0.14         25.0\n",
       "1 2022-02-28 06:00:01      29.0    NaN          NaN\n",
       "2 2022-02-28 06:00:05      29.0    NaN          NaN\n",
       "3 2022-02-28 06:00:06      29.0    NaN          NaN\n",
       "4 2022-02-28 06:00:11      29.0    NaN          NaN"
      ],
      "text/html": [
       "<div>\n",
       "<style scoped>\n",
       "    .dataframe tbody tr th:only-of-type {\n",
       "        vertical-align: middle;\n",
       "    }\n",
       "\n",
       "    .dataframe tbody tr th {\n",
       "        vertical-align: top;\n",
       "    }\n",
       "\n",
       "    .dataframe thead th {\n",
       "        text-align: right;\n",
       "    }\n",
       "</style>\n",
       "<table border=\"1\" class=\"dataframe\">\n",
       "  <thead>\n",
       "    <tr style=\"text-align: right;\">\n",
       "      <th></th>\n",
       "      <th>Time</th>\n",
       "      <th>Humidity</th>\n",
       "      <th>Light</th>\n",
       "      <th>Temperature</th>\n",
       "    </tr>\n",
       "  </thead>\n",
       "  <tbody>\n",
       "    <tr>\n",
       "      <th>0</th>\n",
       "      <td>2022-02-28 06:00:01</td>\n",
       "      <td>29.0</td>\n",
       "      <td>0.14</td>\n",
       "      <td>25.0</td>\n",
       "    </tr>\n",
       "    <tr>\n",
       "      <th>1</th>\n",
       "      <td>2022-02-28 06:00:01</td>\n",
       "      <td>29.0</td>\n",
       "      <td>NaN</td>\n",
       "      <td>NaN</td>\n",
       "    </tr>\n",
       "    <tr>\n",
       "      <th>2</th>\n",
       "      <td>2022-02-28 06:00:05</td>\n",
       "      <td>29.0</td>\n",
       "      <td>NaN</td>\n",
       "      <td>NaN</td>\n",
       "    </tr>\n",
       "    <tr>\n",
       "      <th>3</th>\n",
       "      <td>2022-02-28 06:00:06</td>\n",
       "      <td>29.0</td>\n",
       "      <td>NaN</td>\n",
       "      <td>NaN</td>\n",
       "    </tr>\n",
       "    <tr>\n",
       "      <th>4</th>\n",
       "      <td>2022-02-28 06:00:11</td>\n",
       "      <td>29.0</td>\n",
       "      <td>NaN</td>\n",
       "      <td>NaN</td>\n",
       "    </tr>\n",
       "  </tbody>\n",
       "</table>\n",
       "</div>"
      ]
     },
     "execution_count": 24,
     "metadata": {},
     "output_type": "execute_result"
    }
   ],
   "execution_count": 24
  },
  {
   "metadata": {},
   "cell_type": "markdown",
   "source": "",
   "id": "a6fdf2e17c14b44"
  },
  {
   "metadata": {
    "ExecuteTime": {
     "end_time": "2024-08-26T15:58:21.428229Z",
     "start_time": "2024-08-26T15:58:21.413269Z"
    }
   },
   "cell_type": "code",
   "source": [
    "# drop duplicates\n",
    "df.drop_duplicates(inplace=True)\n",
    "df.head()"
   ],
   "id": "b45810daa8f4fb6d",
   "outputs": [
    {
     "data": {
      "text/plain": [
       "                     Humidity  Light  Temperature\n",
       "Time                                             \n",
       "2022-02-28 06:00:01      29.0   0.14         25.0\n",
       "2022-02-28 06:00:01      29.0    NaN          NaN\n",
       "2022-02-28 10:34:10      28.0    NaN          NaN\n",
       "2022-02-28 11:09:09      27.0    NaN          NaN\n",
       "2022-02-28 11:37:42      26.0    NaN          NaN"
      ],
      "text/html": [
       "<div>\n",
       "<style scoped>\n",
       "    .dataframe tbody tr th:only-of-type {\n",
       "        vertical-align: middle;\n",
       "    }\n",
       "\n",
       "    .dataframe tbody tr th {\n",
       "        vertical-align: top;\n",
       "    }\n",
       "\n",
       "    .dataframe thead th {\n",
       "        text-align: right;\n",
       "    }\n",
       "</style>\n",
       "<table border=\"1\" class=\"dataframe\">\n",
       "  <thead>\n",
       "    <tr style=\"text-align: right;\">\n",
       "      <th></th>\n",
       "      <th>Humidity</th>\n",
       "      <th>Light</th>\n",
       "      <th>Temperature</th>\n",
       "    </tr>\n",
       "    <tr>\n",
       "      <th>Time</th>\n",
       "      <th></th>\n",
       "      <th></th>\n",
       "      <th></th>\n",
       "    </tr>\n",
       "  </thead>\n",
       "  <tbody>\n",
       "    <tr>\n",
       "      <th>2022-02-28 06:00:01</th>\n",
       "      <td>29.0</td>\n",
       "      <td>0.14</td>\n",
       "      <td>25.0</td>\n",
       "    </tr>\n",
       "    <tr>\n",
       "      <th>2022-02-28 06:00:01</th>\n",
       "      <td>29.0</td>\n",
       "      <td>NaN</td>\n",
       "      <td>NaN</td>\n",
       "    </tr>\n",
       "    <tr>\n",
       "      <th>2022-02-28 10:34:10</th>\n",
       "      <td>28.0</td>\n",
       "      <td>NaN</td>\n",
       "      <td>NaN</td>\n",
       "    </tr>\n",
       "    <tr>\n",
       "      <th>2022-02-28 11:09:09</th>\n",
       "      <td>27.0</td>\n",
       "      <td>NaN</td>\n",
       "      <td>NaN</td>\n",
       "    </tr>\n",
       "    <tr>\n",
       "      <th>2022-02-28 11:37:42</th>\n",
       "      <td>26.0</td>\n",
       "      <td>NaN</td>\n",
       "      <td>NaN</td>\n",
       "    </tr>\n",
       "  </tbody>\n",
       "</table>\n",
       "</div>"
      ]
     },
     "execution_count": 54,
     "metadata": {},
     "output_type": "execute_result"
    }
   ],
   "execution_count": 54
  },
  {
   "metadata": {
    "ExecuteTime": {
     "end_time": "2024-08-26T15:59:27.106111Z",
     "start_time": "2024-08-26T15:59:27.088151Z"
    }
   },
   "cell_type": "code",
   "source": [
    "# count duplicate indexes\n",
    "df.index.duplicated().sum()"
   ],
   "id": "d6cfbda5ce7cefb4",
   "outputs": [
    {
     "data": {
      "text/plain": [
       "21"
      ]
     },
     "execution_count": 55,
     "metadata": {},
     "output_type": "execute_result"
    }
   ],
   "execution_count": 55
  },
  {
   "metadata": {},
   "cell_type": "markdown",
   "source": "There are just 21 duplicate timestamps left. This number seems low enough to continue interpolation with the time method.",
   "id": "8d4f0f9327d70b2b"
  },
  {
   "metadata": {},
   "cell_type": "code",
   "outputs": [],
   "execution_count": null,
   "source": "",
   "id": "98d74b8109d986c3"
  },
  {
   "metadata": {
    "ExecuteTime": {
     "end_time": "2024-08-26T16:04:23.746241Z",
     "start_time": "2024-08-26T16:04:23.491146Z"
    }
   },
   "cell_type": "code",
   "source": [
    "# import matplotlib\n",
    "import matplotlib.pyplot as plt\n",
    "plt.figure(figsize=(20,10))\n",
    "plt.plot(df['Humidity'], marker='o', linestyle='')"
   ],
   "id": "ebbca37ed43e25ab",
   "outputs": [
    {
     "data": {
      "text/plain": [
       "[<matplotlib.lines.Line2D at 0x2402f598f40>]"
      ]
     },
     "execution_count": 59,
     "metadata": {},
     "output_type": "execute_result"
    },
    {
     "data": {
      "text/plain": [
       "<Figure size 2000x1000 with 1 Axes>"
      ],
      "image/png": "[encoded data removed]"
     },
     "metadata": {},
     "output_type": "display_data"
    }
   ],
   "execution_count": 59
  },
  {
   "metadata": {
    "ExecuteTime": {
     "end_time": "2024-08-26T16:05:29.949465Z",
     "start_time": "2024-08-26T16:05:29.711082Z"
    }
   },
   "cell_type": "code",
   "source": [
    "# interpolate the data\n",
    "df_ip = df.copy()\n",
    "df_ip.interpolate(method='linear', inplace=True)\n",
    "plt.figure(figsize=(20,10))\n",
    "plt.plot(df_ip['Humidity'], marker='o', linestyle='')\n"
   ],
   "id": "7476e798396ba1a7",
   "outputs": [
    {
     "data": {
      "text/plain": [
       "[<matplotlib.lines.Line2D at 0x24034a3e460>]"
      ]
     },
     "execution_count": 61,
     "metadata": {},
     "output_type": "execute_result"
    },
    {
     "data": {
      "text/plain": [
       "<Figure size 2000x1000 with 1 Axes>"
      ],
      "image/png": "[encoded data removed]"
     },
     "metadata": {},
     "output_type": "display_data"
    }
   ],
   "execution_count": 61
  }
 ],
 "metadata": {
  "kernelspec": {
   "display_name": "Python 3",
   "language": "python",
   "name": "python3"
  },
  "language_info": {
   "codemirror_mode": {
    "name": "ipython",
    "version": 2
   },
   "file_extension": ".py",
   "mimetype": "text/x-python",
   "name": "python",
   "nbconvert_exporter": "python",
   "pygments_lexer": "ipython2",
   "version": "2.7.6"
  }
 },
 "nbformat": 4,
 "nbformat_minor": 5
}
